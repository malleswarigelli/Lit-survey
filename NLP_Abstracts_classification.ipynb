{
 "cells": [
  {
   "cell_type": "markdown",
   "id": "6661ad19",
   "metadata": {},
   "source": [
    "# Goal: building a ML model for text classification"
   ]
  },
  {
   "cell_type": "markdown",
   "id": "b49e2d86",
   "metadata": {},
   "source": [
    "# Steps:\n",
    "Step 1 - Loading the required libraries and modules.\n",
    "\n",
    "Step 2 - Loading the data and performing basic data checks.\n",
    "\n",
    "Step 3 - Pre-processing the raw text and getting it ready for machine learning.\n",
    "\n",
    "Step 4 - Sampling with boostrap, Creating the Training and Test datasets.\n",
    "\n",
    "Step 5 - Converting text to word frequency vectors with TfidfVectorizer.\n",
    "\n",
    "Step 6 - Create and fit the different SML classifiers.\n",
    "\n",
    "Step 7 - Computing the clssifier evaluation metrics.\n",
    "\n",
    "step8 - Predict the class of new/unseen text i.e Abstracts"
   ]
  },
  {
   "cell_type": "code",
   "execution_count": 112,
   "id": "ae180e0d",
   "metadata": {},
   "outputs": [
    {
     "data": {
      "text/plain": [
       "'/Users/malli.gelli/Desktop/Git_Repo/AutoLitSurvey/notebooks'"
      ]
     },
     "execution_count": 112,
     "metadata": {},
     "output_type": "execute_result"
    }
   ],
   "source": [
    "import os\n",
    "os.getcwd()"
   ]
  },
  {
   "cell_type": "markdown",
   "id": "0f5a7dff",
   "metadata": {},
   "source": [
    "## Step 1 - Loading the required libraries and modules"
   ]
  },
  {
   "cell_type": "code",
   "execution_count": 113,
   "id": "453bd29f",
   "metadata": {},
   "outputs": [],
   "source": [
    "#Import numerical libraries\n",
    "import numpy as np\n",
    "from numpy import array\n",
    "import pandas as pd\n",
    "\n",
    "#Import graphical plotting libraries\n",
    "import seaborn as sns\n",
    "import matplotlib.pyplot as plt\n",
    "%matplotlib inline\n",
    "\n",
    "#Import resampling and modeling algorithms\n",
    "from sklearn.utils import resample # for Bootstrap sampling\n",
    "from sklearn.utils import shuffle\n",
    "from sklearn.linear_model import LogisticRegression\n",
    "from sklearn.tree import DecisionTreeClassifier\n",
    "from sklearn.model_selection import train_test_split\n",
    "from sklearn.metrics import accuracy_score\n",
    "\n",
    "#KFold CV\n",
    "from sklearn.model_selection import KFold, LeaveOneOut\n",
    "from sklearn.model_selection import cross_val_score\n",
    "from sklearn.model_selection import train_test_split, cross_val_score\n",
    "\n",
    "import warnings\n",
    "warnings.filterwarnings('ignore')\n"
   ]
  },
  {
   "cell_type": "markdown",
   "id": "ac610842",
   "metadata": {},
   "source": [
    "## Step 2 - Loading the data and performing basic data checks"
   ]
  },
  {
   "cell_type": "code",
   "execution_count": 114,
   "id": "817813eb",
   "metadata": {},
   "outputs": [
    {
     "data": {
      "text/html": [
       "<div>\n",
       "<style scoped>\n",
       "    .dataframe tbody tr th:only-of-type {\n",
       "        vertical-align: middle;\n",
       "    }\n",
       "\n",
       "    .dataframe tbody tr th {\n",
       "        vertical-align: top;\n",
       "    }\n",
       "\n",
       "    .dataframe thead th {\n",
       "        text-align: right;\n",
       "    }\n",
       "</style>\n",
       "<table border=\"1\" class=\"dataframe\">\n",
       "  <thead>\n",
       "    <tr style=\"text-align: right;\">\n",
       "      <th></th>\n",
       "      <th>Functional area</th>\n",
       "      <th>Literature Subject name</th>\n",
       "      <th>Key words</th>\n",
       "      <th>date of search</th>\n",
       "      <th>Search engine/depository for search</th>\n",
       "      <th>Search_link</th>\n",
       "      <th>Title</th>\n",
       "      <th>Abstract</th>\n",
       "      <th>Link</th>\n",
       "      <th>rank from search (1=first, 20=last)</th>\n",
       "      <th>Class</th>\n",
       "      <th>Rank</th>\n",
       "    </tr>\n",
       "  </thead>\n",
       "  <tbody>\n",
       "    <tr>\n",
       "      <th>0</th>\n",
       "      <td>Biochemical pathways</td>\n",
       "      <td>Sesquiterpenes</td>\n",
       "      <td>sesquiterpenes, C15, volatile isoprenoids, pla...</td>\n",
       "      <td>2022-04-11</td>\n",
       "      <td>Google Scholar</td>\n",
       "      <td>https://scholar.google.com/scholar?hl=en&amp;as_sd...</td>\n",
       "      <td>Metabolic engineering of volatile isoprenoids ...</td>\n",
       "      <td>The chemical properties and diversity of volat...</td>\n",
       "      <td>https://onlinelibrary.wiley.com/doi/pdf/10.111...</td>\n",
       "      <td>1.0</td>\n",
       "      <td>1.0</td>\n",
       "      <td>high</td>\n",
       "    </tr>\n",
       "    <tr>\n",
       "      <th>1</th>\n",
       "      <td>NaN</td>\n",
       "      <td>NaN</td>\n",
       "      <td>NaN</td>\n",
       "      <td>NaT</td>\n",
       "      <td>NaN</td>\n",
       "      <td>NaN</td>\n",
       "      <td>Redirection of cytosolic or plastidic isopreno...</td>\n",
       "      <td>Terpenes constitute a distinct class of natura...</td>\n",
       "      <td>https://www.researchgate.net/profile/Anthony-C...</td>\n",
       "      <td>4.0</td>\n",
       "      <td>1.0</td>\n",
       "      <td>high</td>\n",
       "    </tr>\n",
       "    <tr>\n",
       "      <th>2</th>\n",
       "      <td>NaN</td>\n",
       "      <td>NaN</td>\n",
       "      <td>NaN</td>\n",
       "      <td>NaT</td>\n",
       "      <td>NaN</td>\n",
       "      <td>NaN</td>\n",
       "      <td>Genome organization in Arabidopsis thaliana: a...</td>\n",
       "      <td>The isoprenoid biosynthetic pathway provides i...</td>\n",
       "      <td>https://www.researchgate.net/profile/Majid-Gha...</td>\n",
       "      <td>6.0</td>\n",
       "      <td>1.0</td>\n",
       "      <td>high</td>\n",
       "    </tr>\n",
       "    <tr>\n",
       "      <th>3</th>\n",
       "      <td>NaN</td>\n",
       "      <td>NaN</td>\n",
       "      <td>NaN</td>\n",
       "      <td>NaT</td>\n",
       "      <td>NaN</td>\n",
       "      <td>NaN</td>\n",
       "      <td>My way: noncanonical biosynthesis pathways for...</td>\n",
       "      <td>Plant volatiles are crucial for various intera...</td>\n",
       "      <td>https://www.sciencedirect.com/science/article/...</td>\n",
       "      <td>7.0</td>\n",
       "      <td>1.0</td>\n",
       "      <td>high</td>\n",
       "    </tr>\n",
       "    <tr>\n",
       "      <th>4</th>\n",
       "      <td>NaN</td>\n",
       "      <td>NaN</td>\n",
       "      <td>NaN</td>\n",
       "      <td>NaT</td>\n",
       "      <td>NaN</td>\n",
       "      <td>NaN</td>\n",
       "      <td>Plant volatile terpenoid metabolism: biosynthe...</td>\n",
       "      <td>Volatile terpenoids released from different pl...</td>\n",
       "      <td>https://www.sciencedirect.com/science/article/...</td>\n",
       "      <td>8.0</td>\n",
       "      <td>1.0</td>\n",
       "      <td>high</td>\n",
       "    </tr>\n",
       "  </tbody>\n",
       "</table>\n",
       "</div>"
      ],
      "text/plain": [
       "        Functional area Literature Subject name  \\\n",
       "0  Biochemical pathways          Sesquiterpenes   \n",
       "1                   NaN                     NaN   \n",
       "2                   NaN                     NaN   \n",
       "3                   NaN                     NaN   \n",
       "4                   NaN                     NaN   \n",
       "\n",
       "                                           Key words date of search  \\\n",
       "0  sesquiterpenes, C15, volatile isoprenoids, pla...     2022-04-11   \n",
       "1                                                NaN            NaT   \n",
       "2                                                NaN            NaT   \n",
       "3                                                NaN            NaT   \n",
       "4                                                NaN            NaT   \n",
       "\n",
       "  Search engine/depository for search  \\\n",
       "0                      Google Scholar   \n",
       "1                                 NaN   \n",
       "2                                 NaN   \n",
       "3                                 NaN   \n",
       "4                                 NaN   \n",
       "\n",
       "                                         Search_link  \\\n",
       "0  https://scholar.google.com/scholar?hl=en&as_sd...   \n",
       "1                                                NaN   \n",
       "2                                                NaN   \n",
       "3                                                NaN   \n",
       "4                                                NaN   \n",
       "\n",
       "                                               Title  \\\n",
       "0  Metabolic engineering of volatile isoprenoids ...   \n",
       "1  Redirection of cytosolic or plastidic isopreno...   \n",
       "2  Genome organization in Arabidopsis thaliana: a...   \n",
       "3  My way: noncanonical biosynthesis pathways for...   \n",
       "4  Plant volatile terpenoid metabolism: biosynthe...   \n",
       "\n",
       "                                            Abstract  \\\n",
       "0  The chemical properties and diversity of volat...   \n",
       "1  Terpenes constitute a distinct class of natura...   \n",
       "2  The isoprenoid biosynthetic pathway provides i...   \n",
       "3  Plant volatiles are crucial for various intera...   \n",
       "4  Volatile terpenoids released from different pl...   \n",
       "\n",
       "                                                Link  \\\n",
       "0  https://onlinelibrary.wiley.com/doi/pdf/10.111...   \n",
       "1  https://www.researchgate.net/profile/Anthony-C...   \n",
       "2  https://www.researchgate.net/profile/Majid-Gha...   \n",
       "3  https://www.sciencedirect.com/science/article/...   \n",
       "4  https://www.sciencedirect.com/science/article/...   \n",
       "\n",
       "   rank from search (1=first, 20=last)  Class  Rank  \n",
       "0                                  1.0    1.0  high  \n",
       "1                                  4.0    1.0  high  \n",
       "2                                  6.0    1.0  high  \n",
       "3                                  7.0    1.0  high  \n",
       "4                                  8.0    1.0  high  "
      ]
     },
     "execution_count": 114,
     "metadata": {},
     "output_type": "execute_result"
    }
   ],
   "source": [
    "# Researchers experiment data\n",
    "df= pd.read_excel ('/Users/malli.gelli/Desktop/Git_Repo/AutoLitSurvey/Input1_.xlsx')\n",
    "\n",
    "# rename colums and print head\n",
    "df.rename(columns={'Title ': 'Title', 'rank of relevance (1=high, 2=medium, 3=low)':'Class'}, inplace=True)\n",
    "df.head()"
   ]
  },
  {
   "cell_type": "code",
   "execution_count": 115,
   "id": "faf58195",
   "metadata": {},
   "outputs": [
    {
     "data": {
      "text/html": [
       "<div>\n",
       "<style scoped>\n",
       "    .dataframe tbody tr th:only-of-type {\n",
       "        vertical-align: middle;\n",
       "    }\n",
       "\n",
       "    .dataframe tbody tr th {\n",
       "        vertical-align: top;\n",
       "    }\n",
       "\n",
       "    .dataframe thead th {\n",
       "        text-align: right;\n",
       "    }\n",
       "</style>\n",
       "<table border=\"1\" class=\"dataframe\">\n",
       "  <thead>\n",
       "    <tr style=\"text-align: right;\">\n",
       "      <th></th>\n",
       "      <th>Title</th>\n",
       "      <th>Abstract</th>\n",
       "      <th>Class</th>\n",
       "      <th>Rank</th>\n",
       "    </tr>\n",
       "  </thead>\n",
       "  <tbody>\n",
       "    <tr>\n",
       "      <th>0</th>\n",
       "      <td>Metabolic engineering of volatile isoprenoids ...</td>\n",
       "      <td>The chemical properties and diversity of volat...</td>\n",
       "      <td>1.0</td>\n",
       "      <td>high</td>\n",
       "    </tr>\n",
       "    <tr>\n",
       "      <th>1</th>\n",
       "      <td>Redirection of cytosolic or plastidic isopreno...</td>\n",
       "      <td>Terpenes constitute a distinct class of natura...</td>\n",
       "      <td>1.0</td>\n",
       "      <td>high</td>\n",
       "    </tr>\n",
       "    <tr>\n",
       "      <th>2</th>\n",
       "      <td>Genome organization in Arabidopsis thaliana: a...</td>\n",
       "      <td>The isoprenoid biosynthetic pathway provides i...</td>\n",
       "      <td>1.0</td>\n",
       "      <td>high</td>\n",
       "    </tr>\n",
       "    <tr>\n",
       "      <th>3</th>\n",
       "      <td>My way: noncanonical biosynthesis pathways for...</td>\n",
       "      <td>Plant volatiles are crucial for various intera...</td>\n",
       "      <td>1.0</td>\n",
       "      <td>high</td>\n",
       "    </tr>\n",
       "    <tr>\n",
       "      <th>4</th>\n",
       "      <td>Plant volatile terpenoid metabolism: biosynthe...</td>\n",
       "      <td>Volatile terpenoids released from different pl...</td>\n",
       "      <td>1.0</td>\n",
       "      <td>high</td>\n",
       "    </tr>\n",
       "    <tr>\n",
       "      <th>5</th>\n",
       "      <td>Biochemistry of terpenoids: monoterpenes, sesq...</td>\n",
       "      <td>Terpenoids represent the largest class of seco...</td>\n",
       "      <td>1.0</td>\n",
       "      <td>high</td>\n",
       "    </tr>\n",
       "    <tr>\n",
       "      <th>6</th>\n",
       "      <td>Multi-substrate terpene synthases: their occur...</td>\n",
       "      <td>Terpene synthases are responsible for synthesi...</td>\n",
       "      <td>1.0</td>\n",
       "      <td>high</td>\n",
       "    </tr>\n",
       "    <tr>\n",
       "      <th>7</th>\n",
       "      <td>Biosynthesis and emission of isoprene, methylb...</td>\n",
       "      <td>NaN</td>\n",
       "      <td>1.0</td>\n",
       "      <td>high</td>\n",
       "    </tr>\n",
       "    <tr>\n",
       "      <th>8</th>\n",
       "      <td>Biosynthesis of the sesquiterpene germacrene D...</td>\n",
       "      <td>The biogenetic origin of the isoprenoid buildi...</td>\n",
       "      <td>1.0</td>\n",
       "      <td>high</td>\n",
       "    </tr>\n",
       "    <tr>\n",
       "      <th>9</th>\n",
       "      <td>The nonmevalonate pathway supports both monote...</td>\n",
       "      <td>Terpenoids, the largest class of plant seconda...</td>\n",
       "      <td>2.0</td>\n",
       "      <td>medium</td>\n",
       "    </tr>\n",
       "    <tr>\n",
       "      <th>10</th>\n",
       "      <td>Both methylerythritol phosphate and mevalonate...</td>\n",
       "      <td>In higher plants, both the methylerythritol ph...</td>\n",
       "      <td>2.0</td>\n",
       "      <td>medium</td>\n",
       "    </tr>\n",
       "    <tr>\n",
       "      <th>11</th>\n",
       "      <td>Metabolic engineering of biosynthetic pathways...</td>\n",
       "      <td>Isoprenoids are a large and structurally diver...</td>\n",
       "      <td>2.0</td>\n",
       "      <td>medium</td>\n",
       "    </tr>\n",
       "    <tr>\n",
       "      <th>12</th>\n",
       "      <td>Biochemistry of plant volatiles</td>\n",
       "      <td>Plants produce a plethora of volatile compound...</td>\n",
       "      <td>2.0</td>\n",
       "      <td>medium</td>\n",
       "    </tr>\n",
       "    <tr>\n",
       "      <th>13</th>\n",
       "      <td>A unified mechanism of action for volatile iso...</td>\n",
       "      <td>The sessile nature of plants has resulted in t...</td>\n",
       "      <td>3.0</td>\n",
       "      <td>low</td>\n",
       "    </tr>\n",
       "    <tr>\n",
       "      <th>14</th>\n",
       "      <td>Volatile isoprenoids and their importance for ...</td>\n",
       "      <td>Among plant secondary metabolites, volatile is...</td>\n",
       "      <td>3.0</td>\n",
       "      <td>low</td>\n",
       "    </tr>\n",
       "    <tr>\n",
       "      <th>15</th>\n",
       "      <td>Multiple stress factors and the emission of pl...</td>\n",
       "      <td>Individual biotic and abiotic stresses, such a...</td>\n",
       "      <td>3.0</td>\n",
       "      <td>low</td>\n",
       "    </tr>\n",
       "    <tr>\n",
       "      <th>16</th>\n",
       "      <td>Plant volatiles: recent advances and future pe...</td>\n",
       "      <td>Volatile compounds act as a language that plan...</td>\n",
       "      <td>3.0</td>\n",
       "      <td>low</td>\n",
       "    </tr>\n",
       "    <tr>\n",
       "      <th>17</th>\n",
       "      <td>Biosynthesis of essential oils in aromatic pla...</td>\n",
       "      <td>In aromatic plants species, biosynthesis of es...</td>\n",
       "      <td>3.0</td>\n",
       "      <td>low</td>\n",
       "    </tr>\n",
       "    <tr>\n",
       "      <th>18</th>\n",
       "      <td>Gas chromatography-mass spectrometry method fo...</td>\n",
       "      <td>NaN</td>\n",
       "      <td>3.0</td>\n",
       "      <td>low</td>\n",
       "    </tr>\n",
       "    <tr>\n",
       "      <th>19</th>\n",
       "      <td>Terpenoid biosynthesis and specialized vascula...</td>\n",
       "      <td>Defense-related terpenoid biosynthesis in coni...</td>\n",
       "      <td>3.0</td>\n",
       "      <td>low</td>\n",
       "    </tr>\n",
       "    <tr>\n",
       "      <th>20</th>\n",
       "      <td>Contribution of isopentenyl phosphate to plant...</td>\n",
       "      <td>Plant genomes encode isopentenyl phosphate kin...</td>\n",
       "      <td>NaN</td>\n",
       "      <td>NaN</td>\n",
       "    </tr>\n",
       "  </tbody>\n",
       "</table>\n",
       "</div>"
      ],
      "text/plain": [
       "                                                Title  \\\n",
       "0   Metabolic engineering of volatile isoprenoids ...   \n",
       "1   Redirection of cytosolic or plastidic isopreno...   \n",
       "2   Genome organization in Arabidopsis thaliana: a...   \n",
       "3   My way: noncanonical biosynthesis pathways for...   \n",
       "4   Plant volatile terpenoid metabolism: biosynthe...   \n",
       "5   Biochemistry of terpenoids: monoterpenes, sesq...   \n",
       "6   Multi-substrate terpene synthases: their occur...   \n",
       "7   Biosynthesis and emission of isoprene, methylb...   \n",
       "8   Biosynthesis of the sesquiterpene germacrene D...   \n",
       "9   The nonmevalonate pathway supports both monote...   \n",
       "10  Both methylerythritol phosphate and mevalonate...   \n",
       "11  Metabolic engineering of biosynthetic pathways...   \n",
       "12                    Biochemistry of plant volatiles   \n",
       "13  A unified mechanism of action for volatile iso...   \n",
       "14  Volatile isoprenoids and their importance for ...   \n",
       "15  Multiple stress factors and the emission of pl...   \n",
       "16  Plant volatiles: recent advances and future pe...   \n",
       "17  Biosynthesis of essential oils in aromatic pla...   \n",
       "18  Gas chromatography-mass spectrometry method fo...   \n",
       "19  Terpenoid biosynthesis and specialized vascula...   \n",
       "20  Contribution of isopentenyl phosphate to plant...   \n",
       "\n",
       "                                             Abstract  Class    Rank  \n",
       "0   The chemical properties and diversity of volat...    1.0    high  \n",
       "1   Terpenes constitute a distinct class of natura...    1.0    high  \n",
       "2   The isoprenoid biosynthetic pathway provides i...    1.0    high  \n",
       "3   Plant volatiles are crucial for various intera...    1.0    high  \n",
       "4   Volatile terpenoids released from different pl...    1.0    high  \n",
       "5   Terpenoids represent the largest class of seco...    1.0    high  \n",
       "6   Terpene synthases are responsible for synthesi...    1.0    high  \n",
       "7                                                 NaN    1.0    high  \n",
       "8   The biogenetic origin of the isoprenoid buildi...    1.0    high  \n",
       "9   Terpenoids, the largest class of plant seconda...    2.0  medium  \n",
       "10  In higher plants, both the methylerythritol ph...    2.0  medium  \n",
       "11  Isoprenoids are a large and structurally diver...    2.0  medium  \n",
       "12  Plants produce a plethora of volatile compound...    2.0  medium  \n",
       "13  The sessile nature of plants has resulted in t...    3.0     low  \n",
       "14  Among plant secondary metabolites, volatile is...    3.0     low  \n",
       "15  Individual biotic and abiotic stresses, such a...    3.0     low  \n",
       "16  Volatile compounds act as a language that plan...    3.0     low  \n",
       "17  In aromatic plants species, biosynthesis of es...    3.0     low  \n",
       "18                                                NaN    3.0     low  \n",
       "19  Defense-related terpenoid biosynthesis in coni...    3.0     low  \n",
       "20  Plant genomes encode isopentenyl phosphate kin...    NaN     NaN  "
      ]
     },
     "execution_count": 115,
     "metadata": {},
     "output_type": "execute_result"
    }
   ],
   "source": [
    "df=df[['Title','Abstract','Class','Rank']]\n",
    "df"
   ]
  },
  {
   "cell_type": "code",
   "execution_count": 116,
   "id": "f8fdcec7",
   "metadata": {},
   "outputs": [
    {
     "data": {
      "text/html": [
       "<div>\n",
       "<style scoped>\n",
       "    .dataframe tbody tr th:only-of-type {\n",
       "        vertical-align: middle;\n",
       "    }\n",
       "\n",
       "    .dataframe tbody tr th {\n",
       "        vertical-align: top;\n",
       "    }\n",
       "\n",
       "    .dataframe thead th {\n",
       "        text-align: right;\n",
       "    }\n",
       "</style>\n",
       "<table border=\"1\" class=\"dataframe\">\n",
       "  <thead>\n",
       "    <tr style=\"text-align: right;\">\n",
       "      <th></th>\n",
       "      <th>Title</th>\n",
       "      <th>Abstract</th>\n",
       "      <th>Class</th>\n",
       "      <th>Rank</th>\n",
       "    </tr>\n",
       "  </thead>\n",
       "  <tbody>\n",
       "    <tr>\n",
       "      <th>0</th>\n",
       "      <td>Metabolic engineering of volatile isoprenoids ...</td>\n",
       "      <td>The chemical properties and diversity of volat...</td>\n",
       "      <td>1.0</td>\n",
       "      <td>high</td>\n",
       "    </tr>\n",
       "    <tr>\n",
       "      <th>1</th>\n",
       "      <td>Redirection of cytosolic or plastidic isopreno...</td>\n",
       "      <td>Terpenes constitute a distinct class of natura...</td>\n",
       "      <td>1.0</td>\n",
       "      <td>high</td>\n",
       "    </tr>\n",
       "    <tr>\n",
       "      <th>2</th>\n",
       "      <td>Genome organization in Arabidopsis thaliana: a...</td>\n",
       "      <td>The isoprenoid biosynthetic pathway provides i...</td>\n",
       "      <td>1.0</td>\n",
       "      <td>high</td>\n",
       "    </tr>\n",
       "    <tr>\n",
       "      <th>3</th>\n",
       "      <td>My way: noncanonical biosynthesis pathways for...</td>\n",
       "      <td>Plant volatiles are crucial for various intera...</td>\n",
       "      <td>1.0</td>\n",
       "      <td>high</td>\n",
       "    </tr>\n",
       "    <tr>\n",
       "      <th>4</th>\n",
       "      <td>Plant volatile terpenoid metabolism: biosynthe...</td>\n",
       "      <td>Volatile terpenoids released from different pl...</td>\n",
       "      <td>1.0</td>\n",
       "      <td>high</td>\n",
       "    </tr>\n",
       "    <tr>\n",
       "      <th>5</th>\n",
       "      <td>Biochemistry of terpenoids: monoterpenes, sesq...</td>\n",
       "      <td>Terpenoids represent the largest class of seco...</td>\n",
       "      <td>1.0</td>\n",
       "      <td>high</td>\n",
       "    </tr>\n",
       "    <tr>\n",
       "      <th>6</th>\n",
       "      <td>Multi-substrate terpene synthases: their occur...</td>\n",
       "      <td>Terpene synthases are responsible for synthesi...</td>\n",
       "      <td>1.0</td>\n",
       "      <td>high</td>\n",
       "    </tr>\n",
       "    <tr>\n",
       "      <th>8</th>\n",
       "      <td>Biosynthesis of the sesquiterpene germacrene D...</td>\n",
       "      <td>The biogenetic origin of the isoprenoid buildi...</td>\n",
       "      <td>1.0</td>\n",
       "      <td>high</td>\n",
       "    </tr>\n",
       "    <tr>\n",
       "      <th>9</th>\n",
       "      <td>The nonmevalonate pathway supports both monote...</td>\n",
       "      <td>Terpenoids, the largest class of plant seconda...</td>\n",
       "      <td>2.0</td>\n",
       "      <td>medium</td>\n",
       "    </tr>\n",
       "    <tr>\n",
       "      <th>10</th>\n",
       "      <td>Both methylerythritol phosphate and mevalonate...</td>\n",
       "      <td>In higher plants, both the methylerythritol ph...</td>\n",
       "      <td>2.0</td>\n",
       "      <td>medium</td>\n",
       "    </tr>\n",
       "    <tr>\n",
       "      <th>11</th>\n",
       "      <td>Metabolic engineering of biosynthetic pathways...</td>\n",
       "      <td>Isoprenoids are a large and structurally diver...</td>\n",
       "      <td>2.0</td>\n",
       "      <td>medium</td>\n",
       "    </tr>\n",
       "    <tr>\n",
       "      <th>12</th>\n",
       "      <td>Biochemistry of plant volatiles</td>\n",
       "      <td>Plants produce a plethora of volatile compound...</td>\n",
       "      <td>2.0</td>\n",
       "      <td>medium</td>\n",
       "    </tr>\n",
       "    <tr>\n",
       "      <th>13</th>\n",
       "      <td>A unified mechanism of action for volatile iso...</td>\n",
       "      <td>The sessile nature of plants has resulted in t...</td>\n",
       "      <td>3.0</td>\n",
       "      <td>low</td>\n",
       "    </tr>\n",
       "    <tr>\n",
       "      <th>14</th>\n",
       "      <td>Volatile isoprenoids and their importance for ...</td>\n",
       "      <td>Among plant secondary metabolites, volatile is...</td>\n",
       "      <td>3.0</td>\n",
       "      <td>low</td>\n",
       "    </tr>\n",
       "    <tr>\n",
       "      <th>15</th>\n",
       "      <td>Multiple stress factors and the emission of pl...</td>\n",
       "      <td>Individual biotic and abiotic stresses, such a...</td>\n",
       "      <td>3.0</td>\n",
       "      <td>low</td>\n",
       "    </tr>\n",
       "    <tr>\n",
       "      <th>16</th>\n",
       "      <td>Plant volatiles: recent advances and future pe...</td>\n",
       "      <td>Volatile compounds act as a language that plan...</td>\n",
       "      <td>3.0</td>\n",
       "      <td>low</td>\n",
       "    </tr>\n",
       "    <tr>\n",
       "      <th>17</th>\n",
       "      <td>Biosynthesis of essential oils in aromatic pla...</td>\n",
       "      <td>In aromatic plants species, biosynthesis of es...</td>\n",
       "      <td>3.0</td>\n",
       "      <td>low</td>\n",
       "    </tr>\n",
       "    <tr>\n",
       "      <th>19</th>\n",
       "      <td>Terpenoid biosynthesis and specialized vascula...</td>\n",
       "      <td>Defense-related terpenoid biosynthesis in coni...</td>\n",
       "      <td>3.0</td>\n",
       "      <td>low</td>\n",
       "    </tr>\n",
       "  </tbody>\n",
       "</table>\n",
       "</div>"
      ],
      "text/plain": [
       "                                                Title  \\\n",
       "0   Metabolic engineering of volatile isoprenoids ...   \n",
       "1   Redirection of cytosolic or plastidic isopreno...   \n",
       "2   Genome organization in Arabidopsis thaliana: a...   \n",
       "3   My way: noncanonical biosynthesis pathways for...   \n",
       "4   Plant volatile terpenoid metabolism: biosynthe...   \n",
       "5   Biochemistry of terpenoids: monoterpenes, sesq...   \n",
       "6   Multi-substrate terpene synthases: their occur...   \n",
       "8   Biosynthesis of the sesquiterpene germacrene D...   \n",
       "9   The nonmevalonate pathway supports both monote...   \n",
       "10  Both methylerythritol phosphate and mevalonate...   \n",
       "11  Metabolic engineering of biosynthetic pathways...   \n",
       "12                    Biochemistry of plant volatiles   \n",
       "13  A unified mechanism of action for volatile iso...   \n",
       "14  Volatile isoprenoids and their importance for ...   \n",
       "15  Multiple stress factors and the emission of pl...   \n",
       "16  Plant volatiles: recent advances and future pe...   \n",
       "17  Biosynthesis of essential oils in aromatic pla...   \n",
       "19  Terpenoid biosynthesis and specialized vascula...   \n",
       "\n",
       "                                             Abstract  Class    Rank  \n",
       "0   The chemical properties and diversity of volat...    1.0    high  \n",
       "1   Terpenes constitute a distinct class of natura...    1.0    high  \n",
       "2   The isoprenoid biosynthetic pathway provides i...    1.0    high  \n",
       "3   Plant volatiles are crucial for various intera...    1.0    high  \n",
       "4   Volatile terpenoids released from different pl...    1.0    high  \n",
       "5   Terpenoids represent the largest class of seco...    1.0    high  \n",
       "6   Terpene synthases are responsible for synthesi...    1.0    high  \n",
       "8   The biogenetic origin of the isoprenoid buildi...    1.0    high  \n",
       "9   Terpenoids, the largest class of plant seconda...    2.0  medium  \n",
       "10  In higher plants, both the methylerythritol ph...    2.0  medium  \n",
       "11  Isoprenoids are a large and structurally diver...    2.0  medium  \n",
       "12  Plants produce a plethora of volatile compound...    2.0  medium  \n",
       "13  The sessile nature of plants has resulted in t...    3.0     low  \n",
       "14  Among plant secondary metabolites, volatile is...    3.0     low  \n",
       "15  Individual biotic and abiotic stresses, such a...    3.0     low  \n",
       "16  Volatile compounds act as a language that plan...    3.0     low  \n",
       "17  In aromatic plants species, biosynthesis of es...    3.0     low  \n",
       "19  Defense-related terpenoid biosynthesis in coni...    3.0     low  "
      ]
     },
     "execution_count": 116,
     "metadata": {},
     "output_type": "execute_result"
    }
   ],
   "source": [
    "# drop rows with no abstract, Class\n",
    "df= df[df['Abstract'].notna()]\n",
    "df=df[df['Class'].notna()]\n",
    "df"
   ]
  },
  {
   "cell_type": "code",
   "execution_count": 117,
   "id": "f0c5f65d",
   "metadata": {},
   "outputs": [
    {
     "data": {
      "image/png": "[encoded data removed]",
      "text/plain": [
       "<Figure size 432x288 with 1 Axes>"
      ]
     },
     "metadata": {
      "needs_background": "light"
     },
     "output_type": "display_data"
    }
   ],
   "source": [
    "df.groupby('Rank').Abstract.count().plot.bar(ylim=0)\n",
    "plt.show()"
   ]
  },
  {
   "cell_type": "markdown",
   "id": "ce3a115a",
   "metadata": {},
   "source": [
    "## Step 3 – Pre-processing the Raw Text (transform unstructured data to a matrix of numbers) and Getting It Ready for Machine Learning\n",
    "\n",
    "The common pre-processing steps are:\n",
    "1. Removing punctuation, stopwords, conversion to lower case, tokenization, stemming, lemmatization, part of speech tagging\n",
    "2. Convert words to vectors (CountVectorizer, TF-IDF, ngrams, Word2ven, AvgWord2vec)"
   ]
  },
  {
   "cell_type": "code",
   "execution_count": 118,
   "id": "66c0c4c8",
   "metadata": {},
   "outputs": [
    {
     "name": "stderr",
     "output_type": "stream",
     "text": [
      "[nltk_data] Downloading package stopwords to\n",
      "[nltk_data]     /Users/malli.gelli/nltk_data...\n",
      "[nltk_data]   Package stopwords is already up-to-date!\n"
     ]
    },
    {
     "data": {
      "text/plain": [
       "True"
      ]
     },
     "execution_count": 118,
     "metadata": {},
     "output_type": "execute_result"
    }
   ],
   "source": [
    "import nltk\n",
    "nltk.download('stopwords')"
   ]
  },
  {
   "cell_type": "markdown",
   "id": "c48e55f3",
   "metadata": {},
   "source": [
    "## stemming abstracts"
   ]
  },
  {
   "cell_type": "code",
   "execution_count": 119,
   "id": "8aa0b9a2",
   "metadata": {},
   "outputs": [],
   "source": [
    "from nltk.corpus import stopwords\n",
    "from nltk.stem import PorterStemmer\n",
    "import re\n",
    "\n",
    "stemmer1 = PorterStemmer()\n",
    "words = stopwords.words(\"english\")\n",
    "\n",
    "df['stem_text'] = df['Abstract'].apply(\n",
    "    lambda x: \" \".join([stemmer1.stem(i) \n",
    "                        for i in re.sub(\"[^a-zA-Z]\", \" \", x).split() if i not in words]).lower())"
   ]
  },
  {
   "cell_type": "code",
   "execution_count": 120,
   "id": "f8de4b1b",
   "metadata": {},
   "outputs": [
    {
     "data": {
      "text/plain": [
       "0    the chemic properti divers volatil isoprenoid ...\n",
       "1    terpen constitut distinct class natur product ...\n",
       "2    the isoprenoid biosynthet pathway provid inter...\n",
       "3    plant volatil crucial variou interact organ su...\n",
       "4    volatil terpenoid releas differ plant part pla...\n",
       "Name: stem_text, dtype: object"
      ]
     },
     "execution_count": 120,
     "metadata": {},
     "output_type": "execute_result"
    }
   ],
   "source": [
    "df['stem_text'].head()"
   ]
  },
  {
   "cell_type": "markdown",
   "id": "ce5ae87b",
   "metadata": {},
   "source": [
    "## lemmatize abstracts"
   ]
  },
  {
   "cell_type": "code",
   "execution_count": 121,
   "id": "96e18388",
   "metadata": {},
   "outputs": [],
   "source": [
    "from nltk.stem import WordNetLemmatizer\n",
    "lemmatizer=WordNetLemmatizer()\n",
    "\n",
    "df['lemma_text'] = df['Abstract'].apply(\n",
    "    lambda x: \" \".join([lemmatizer.lemmatize(i) \n",
    "                        for i in re.sub(\"[^a-zA-Z]\", \" \", x).split() if i not in words]).lower())"
   ]
  },
  {
   "cell_type": "code",
   "execution_count": 122,
   "id": "c5013d35",
   "metadata": {},
   "outputs": [
    {
     "data": {
      "text/plain": [
       "0    the chemical property diversity volatile isopr...\n",
       "1    terpenes constitute distinct class natural pro...\n",
       "2    the isoprenoid biosynthetic pathway provides i...\n",
       "3    plant volatile crucial various interaction org...\n",
       "4    volatile terpenoids released different plant p...\n",
       "Name: lemma_text, dtype: object"
      ]
     },
     "execution_count": 122,
     "metadata": {},
     "output_type": "execute_result"
    }
   ],
   "source": [
    "df['lemma_text'].head()"
   ]
  },
  {
   "cell_type": "markdown",
   "id": "4279688c",
   "metadata": {},
   "source": [
    "## Slice feature and target variables, convert to arrays"
   ]
  },
  {
   "cell_type": "code",
   "execution_count": 123,
   "id": "aa9a4500",
   "metadata": {},
   "outputs": [
    {
     "data": {
      "text/html": [
       "<div>\n",
       "<style scoped>\n",
       "    .dataframe tbody tr th:only-of-type {\n",
       "        vertical-align: middle;\n",
       "    }\n",
       "\n",
       "    .dataframe tbody tr th {\n",
       "        vertical-align: top;\n",
       "    }\n",
       "\n",
       "    .dataframe thead th {\n",
       "        text-align: right;\n",
       "    }\n",
       "</style>\n",
       "<table border=\"1\" class=\"dataframe\">\n",
       "  <thead>\n",
       "    <tr style=\"text-align: right;\">\n",
       "      <th></th>\n",
       "      <th>lemma_text</th>\n",
       "      <th>Rank</th>\n",
       "    </tr>\n",
       "  </thead>\n",
       "  <tbody>\n",
       "    <tr>\n",
       "      <th>0</th>\n",
       "      <td>the chemical property diversity volatile isopr...</td>\n",
       "      <td>high</td>\n",
       "    </tr>\n",
       "    <tr>\n",
       "      <th>1</th>\n",
       "      <td>terpenes constitute distinct class natural pro...</td>\n",
       "      <td>high</td>\n",
       "    </tr>\n",
       "    <tr>\n",
       "      <th>2</th>\n",
       "      <td>the isoprenoid biosynthetic pathway provides i...</td>\n",
       "      <td>high</td>\n",
       "    </tr>\n",
       "    <tr>\n",
       "      <th>3</th>\n",
       "      <td>plant volatile crucial various interaction org...</td>\n",
       "      <td>high</td>\n",
       "    </tr>\n",
       "    <tr>\n",
       "      <th>4</th>\n",
       "      <td>volatile terpenoids released different plant p...</td>\n",
       "      <td>high</td>\n",
       "    </tr>\n",
       "  </tbody>\n",
       "</table>\n",
       "</div>"
      ],
      "text/plain": [
       "                                          lemma_text  Rank\n",
       "0  the chemical property diversity volatile isopr...  high\n",
       "1  terpenes constitute distinct class natural pro...  high\n",
       "2  the isoprenoid biosynthetic pathway provides i...  high\n",
       "3  plant volatile crucial various interaction org...  high\n",
       "4  volatile terpenoids released different plant p...  high"
      ]
     },
     "execution_count": 123,
     "metadata": {},
     "output_type": "execute_result"
    }
   ],
   "source": [
    "data=df[['lemma_text','Rank']]\n",
    "data.head()"
   ]
  },
  {
   "cell_type": "code",
   "execution_count": 124,
   "id": "9c45634c",
   "metadata": {},
   "outputs": [],
   "source": [
    "X= data['lemma_text'].values\n",
    "y = data['Rank'].values"
   ]
  },
  {
   "cell_type": "markdown",
   "id": "dbc84849",
   "metadata": {},
   "source": [
    "## Train test split data"
   ]
  },
  {
   "cell_type": "code",
   "execution_count": 125,
   "id": "225f4334",
   "metadata": {},
   "outputs": [
    {
     "name": "stdout",
     "output_type": "stream",
     "text": [
      "y_train group Ranks:\n",
      " ['low' 'low' 'medium' 'high' 'medium' 'low' 'high' 'low' 'high' 'medium'\n",
      " 'low' 'high']\n",
      "--------\n",
      "y_test group Ranks:\n",
      " ['high' 'high' 'medium' 'high' 'high' 'low']\n"
     ]
    }
   ],
   "source": [
    "X_train, X_test, y_train, y_test= train_test_split(X, y, test_size=0.33, random_state=42)\n",
    "#print(X_train)\n",
    "print('y_train group Ranks:\\n', y_train)\n",
    "print('--------')\n",
    "print('y_test group Ranks:\\n',y_test)"
   ]
  },
  {
   "cell_type": "markdown",
   "id": "9595da32",
   "metadata": {},
   "source": [
    "## Transform words into vectors with TF-IDF vectorizer"
   ]
  },
  {
   "cell_type": "code",
   "execution_count": 126,
   "id": "6e60c2aa",
   "metadata": {},
   "outputs": [],
   "source": [
    "from sklearn.feature_extraction.text import TfidfVectorizer\n",
    "vectorizer_tfidf = TfidfVectorizer(stop_words='english', max_df=0.7)\n",
    "X_train_tf = vectorizer_tfidf.fit_transform(X_train.ravel())\n",
    "X_train_tf = vectorizer_tfidf.transform(X_train.ravel())\n",
    "#print(vectorizer_tfidf.get_feature_names()[:10])  \n",
    "#print('n_samples: %d, n_features: %d' % train_tfIdf.shape)\n",
    "    \n",
    "#transforming test data into tf-idf matrix\n",
    "X_test_tf = vectorizer_tfidf.transform(X_test.ravel())\n",
    "#print(\"n_samples: %d, n_features: %d\" % X_test_tf.shape)"
   ]
  },
  {
   "cell_type": "markdown",
   "id": "7ec5d678",
   "metadata": {},
   "source": [
    "# Supervised Machine Learning Classification models"
   ]
  },
  {
   "cell_type": "markdown",
   "id": "cc43d09f",
   "metadata": {},
   "source": [
    "## Naive Bayes Classifier:\n",
    "   Training set accuracy: 1.0,\n",
    "   \n",
    "   Test set accuracy: 0.167 "
   ]
  },
  {
   "cell_type": "code",
   "execution_count": 127,
   "id": "a5da1bd8",
   "metadata": {},
   "outputs": [
    {
     "name": "stdout",
     "output_type": "stream",
     "text": [
      "Ranks of y_train\n",
      ": ['low' 'low' 'medium' 'high' 'medium' 'low' 'high' 'low' 'high' 'medium'\n",
      " 'low' 'high']\n",
      "-----------------------------------\n",
      "NB classifier Training set predictions:\n",
      " ['low' 'low' 'medium' 'high' 'medium' 'low' 'high' 'low' 'high' 'medium'\n",
      " 'low' 'high']\n",
      "Training set accuracy: 1.0\n"
     ]
    }
   ],
   "source": [
    "# naive bayes classifier\n",
    "from sklearn.naive_bayes import MultinomialNB\n",
    "from sklearn import metrics\n",
    "    \n",
    "NB = MultinomialNB()\n",
    "NB.fit(X_train_tf, y_train)\n",
    "    \n",
    "#predicted train data\n",
    "y_pred_train_NB = NB.predict(X_train_tf)\n",
    "print('Ranks of y_train\\n:', y_train)\n",
    "print('-----------------------------------')\n",
    "print('NB classifier Training set predictions:\\n',y_pred_train_NB)\n",
    "print('Training set accuracy:', accuracy_score(y_train, y_pred_train_NB))"
   ]
  },
  {
   "cell_type": "code",
   "execution_count": 128,
   "id": "44782955",
   "metadata": {},
   "outputs": [
    {
     "name": "stdout",
     "output_type": "stream",
     "text": [
      "Ranks of y_test\n",
      ": ['high' 'high' 'medium' 'high' 'high' 'low']\n",
      "-----------------------------------\n",
      "NB classifier Test set predictions:\n",
      " ['low' 'low' 'low' 'low' 'low' 'low']\n",
      "Test set accuracy: 0.167\n"
     ]
    }
   ],
   "source": [
    "y_pred_test_NB = NB.predict(X_test_tf)\n",
    "print('Ranks of y_test\\n:', y_test)\n",
    "print('-----------------------------------')\n",
    "print('NB classifier Test set predictions:\\n',y_pred_test_NB)\n",
    "naive_score = accuracy_score(y_test, y_pred_test_NB)\n",
    "print('Test set accuracy:', np.round(naive_score,3))"
   ]
  },
  {
   "cell_type": "code",
   "execution_count": 129,
   "id": "531393ff",
   "metadata": {},
   "outputs": [
    {
     "name": "stdout",
     "output_type": "stream",
     "text": [
      "              precision    recall  f1-score   support\n",
      "\n",
      "        high       0.00      0.00      0.00         4\n",
      "      medium       0.17      1.00      0.29         1\n",
      "         low       0.00      0.00      0.00         1\n",
      "\n",
      "    accuracy                           0.17         6\n",
      "   macro avg       0.06      0.33      0.10         6\n",
      "weighted avg       0.03      0.17      0.05         6\n",
      "\n",
      "Confusion matrix:\n",
      "[[0 4 0]\n",
      " [0 1 0]\n",
      " [0 1 0]]\n"
     ]
    }
   ],
   "source": [
    "print(metrics.classification_report(y_test, y_pred_test_NB, target_names=['high', 'medium','low']))\n",
    "    \n",
    "print(\"Confusion matrix:\")\n",
    "print(metrics.confusion_matrix(y_test, y_pred_test_NB))"
   ]
  },
  {
   "cell_type": "markdown",
   "id": "2e5a54e5",
   "metadata": {},
   "source": [
    "## Logistic Regression\n",
    "\n",
    "Training set accuracy: 1.0,\n",
    "   \n",
    "Test set accuracy: 0.167 "
   ]
  },
  {
   "cell_type": "code",
   "execution_count": 130,
   "id": "0ae4be8d",
   "metadata": {},
   "outputs": [
    {
     "name": "stdout",
     "output_type": "stream",
     "text": [
      "Ranks of y_train\n",
      ": ['low' 'low' 'medium' 'high' 'medium' 'low' 'high' 'low' 'high' 'medium'\n",
      " 'low' 'high']\n",
      "-----------------------------------\n",
      "LR classifier Training set predictions:\n",
      " ['low' 'low' 'medium' 'high' 'medium' 'low' 'high' 'low' 'high' 'medium'\n",
      " 'low' 'high']\n",
      "Training set accuracy: 1.0\n"
     ]
    }
   ],
   "source": [
    "from sklearn.linear_model import LogisticRegression\n",
    "LR = LogisticRegression()\n",
    "LR.fit(X_train_tf, y_train)\n",
    "\n",
    "\n",
    "#predicted train data\n",
    "y_pred_train_LR = LR.predict(X_train_tf)\n",
    "print('Ranks of y_train\\n:', y_train)\n",
    "print('-----------------------------------')\n",
    "print('LR classifier Training set predictions:\\n',y_pred_train_LR)\n",
    "print('Training set accuracy:', accuracy_score(y_train, y_pred_train_LR))    "
   ]
  },
  {
   "cell_type": "code",
   "execution_count": 131,
   "id": "0b8f8e8d",
   "metadata": {},
   "outputs": [
    {
     "name": "stdout",
     "output_type": "stream",
     "text": [
      "Ranks of y_test\n",
      ": ['high' 'high' 'medium' 'high' 'high' 'low']\n",
      "-----------------------------------\n",
      "LR classifier Test set predictions:\n",
      " ['low' 'low' 'low' 'low' 'low' 'low']\n",
      "Test set accuracy: 0.167\n"
     ]
    }
   ],
   "source": [
    "y_pred_test_LR = LR.predict(X_test_tf)\n",
    "print('Ranks of y_test\\n:', y_test)\n",
    "print('-----------------------------------')\n",
    "print('LR classifier Test set predictions:\\n',y_pred_test_LR)\n",
    "LR_score = accuracy_score(y_test, y_pred_test_LR)\n",
    "print('Test set accuracy:', np.round(LR_score,3))"
   ]
  },
  {
   "cell_type": "markdown",
   "id": "c5553aae",
   "metadata": {},
   "source": [
    "## Decision tree classifier\n",
    "\n",
    "Training set accuracy: 1.0,\n",
    "   \n",
    "Test set accuracy: 0.5"
   ]
  },
  {
   "cell_type": "code",
   "execution_count": 132,
   "id": "fa1d466f",
   "metadata": {},
   "outputs": [
    {
     "name": "stdout",
     "output_type": "stream",
     "text": [
      "Ranks of y_train\n",
      ": ['low' 'low' 'medium' 'high' 'medium' 'low' 'high' 'low' 'high' 'medium'\n",
      " 'low' 'high']\n",
      "-----------------------------------\n",
      "DT classifier Training set predictions:\n",
      " ['low' 'low' 'medium' 'high' 'medium' 'low' 'high' 'low' 'high' 'medium'\n",
      " 'low' 'high']\n",
      "Training set accuracy: 1.0\n"
     ]
    }
   ],
   "source": [
    "DT= DecisionTreeClassifier()\n",
    "DT.fit(X_train_tf, y_train) \n",
    "    \n",
    "#predicted train data\n",
    "y_pred_train_DT = DT.predict(X_train_tf)\n",
    "print('Ranks of y_train\\n:', y_train)\n",
    "print('-----------------------------------')\n",
    "print('DT classifier Training set predictions:\\n',y_pred_train_DT)\n",
    "print('Training set accuracy:', accuracy_score(y_train, y_pred_train_DT))   "
   ]
  },
  {
   "cell_type": "code",
   "execution_count": 133,
   "id": "d4a52556",
   "metadata": {},
   "outputs": [
    {
     "name": "stdout",
     "output_type": "stream",
     "text": [
      "Ranks of y_test\n",
      ": ['high' 'high' 'medium' 'high' 'high' 'low']\n",
      "-----------------------------------\n",
      "DT classifier Test set predictions:\n",
      " ['high' 'low' 'low' 'low' 'high' 'low']\n",
      "Test set accuracy: 0.5\n"
     ]
    }
   ],
   "source": [
    "y_pred_test_DT = DT.predict(X_test_tf)\n",
    "print('Ranks of y_test\\n:', y_test)\n",
    "print('-----------------------------------')\n",
    "print('DT classifier Test set predictions:\\n',y_pred_test_DT)\n",
    "DT_score = accuracy_score(y_test, y_pred_test_DT)\n",
    "print('Test set accuracy:', np.round(DT_score,3))"
   ]
  },
  {
   "cell_type": "markdown",
   "id": "f7570c5e",
   "metadata": {},
   "source": [
    "## SGDclassifier\n",
    "\n",
    "Training set accuracy: 1.0,\n",
    "   \n",
    "Test set accuracy: 0.5"
   ]
  },
  {
   "cell_type": "code",
   "execution_count": 134,
   "id": "27f559b6",
   "metadata": {},
   "outputs": [
    {
     "name": "stdout",
     "output_type": "stream",
     "text": [
      "SGD cross val scores: [0.   0.5  0.25]\n",
      "Accuracy: 0.25 (+/- 0.41)\n"
     ]
    }
   ],
   "source": [
    "from sklearn.linear_model import SGDClassifier\n",
    "SGD = SGDClassifier(random_state=123)\n",
    "SGD_clf_scores = cross_val_score(SGD, X_train_tf, y_train, cv=3)\n",
    "print('SGD cross val scores:', SGD_clf_scores)\n",
    "print(\"Accuracy: %0.2f (+/- %0.2f)\" % (SGD_clf_scores.mean(), SGD_clf_scores.std() * 2))"
   ]
  },
  {
   "cell_type": "code",
   "execution_count": 135,
   "id": "4731748c",
   "metadata": {},
   "outputs": [
    {
     "name": "stdout",
     "output_type": "stream",
     "text": [
      "Ranks of y_train\n",
      ": ['low' 'low' 'medium' 'high' 'medium' 'low' 'high' 'low' 'high' 'medium'\n",
      " 'low' 'high']\n",
      "-----------------------------------\n",
      "SGD classifier Training set predictions:\n",
      " ['low' 'low' 'medium' 'high' 'medium' 'low' 'high' 'low' 'high' 'medium'\n",
      " 'low' 'high']\n",
      "SGD training set accuracy: 1.0\n"
     ]
    }
   ],
   "source": [
    "SGD.fit(X_train_tf, y_train)\n",
    "\n",
    "#predicted train data\n",
    "y_pred_train_SGD = SGD.predict(X_train_tf)\n",
    "print('Ranks of y_train\\n:', y_train)\n",
    "print('-----------------------------------')\n",
    "print('SGD classifier Training set predictions:\\n', y_pred_train_SGD)\n",
    "print('SGD training set accuracy:', accuracy_score(y_train, y_pred_train_SGD))"
   ]
  },
  {
   "cell_type": "code",
   "execution_count": 136,
   "id": "a91cb280",
   "metadata": {},
   "outputs": [
    {
     "name": "stdout",
     "output_type": "stream",
     "text": [
      "Ranks of y_test\n",
      ": ['high' 'high' 'medium' 'high' 'high' 'low']\n",
      "-----------------------------------\n",
      "SGD classifier Test set predictions:\n",
      " ['low' 'low' 'medium' 'low' 'high' 'low']\n",
      "SGD Test set accuracy: 0.5\n"
     ]
    }
   ],
   "source": [
    "y_pred_test_SGD = SGD.predict(X_test_tf)\n",
    "print('Ranks of y_test\\n:', y_test)\n",
    "print('-----------------------------------')\n",
    "print('SGD classifier Test set predictions:\\n',y_pred_test_SGD)\n",
    "SGD_score = accuracy_score(y_test, y_pred_test_SGD)\n",
    "print('SGD Test set accuracy:', np.round(SGD_score,3))"
   ]
  },
  {
   "cell_type": "markdown",
   "id": "c1fe256a",
   "metadata": {},
   "source": [
    "## RandomForestClassifier\n",
    "\n",
    "Training set accuracy: 1.0,\n",
    "   \n",
    "Test set accuracy: 0.167"
   ]
  },
  {
   "cell_type": "code",
   "execution_count": 137,
   "id": "d23b29c7",
   "metadata": {},
   "outputs": [
    {
     "name": "stdout",
     "output_type": "stream",
     "text": [
      "Ranks of y_train\n",
      ": ['low' 'low' 'medium' 'high' 'medium' 'low' 'high' 'low' 'high' 'medium'\n",
      " 'low' 'high']\n",
      "RF classifier Training set predictions:\n",
      " ['low' 'low' 'medium' 'high' 'medium' 'low' 'high' 'low' 'high' 'medium'\n",
      " 'low' 'high']\n",
      "RF training set accuracy: 1.0\n",
      "-----------------------------------\n",
      "Ranks of y_test\n",
      ": ['high' 'high' 'medium' 'high' 'high' 'low']\n",
      "RF classifier Test set predictions:\n",
      " ['low' 'low' 'low' 'low' 'low' 'low']\n",
      "RF Test set accuracy: 0.167\n",
      "-----------------------------------\n"
     ]
    }
   ],
   "source": [
    "from sklearn.ensemble import RandomForestClassifier\n",
    "\n",
    "RF = RandomForestClassifier()\n",
    "RF.fit(X_train_tf, y_train)\n",
    "\n",
    "#predicted train data\n",
    "y_pred_train_RF = RF.predict(X_train_tf)\n",
    "print('Ranks of y_train\\n:', y_train)\n",
    "\n",
    "print('RF classifier Training set predictions:\\n',y_pred_train_RF)\n",
    "print('RF training set accuracy:', accuracy_score(y_train, y_pred_train_RF))\n",
    "print('-----------------------------------')\n",
    "\n",
    "y_pred_test_RF = RF.predict(X_test_tf)\n",
    "print('Ranks of y_test\\n:', y_test)\n",
    "print('RF classifier Test set predictions:\\n', y_pred_test_RF)\n",
    "RF_score = accuracy_score(y_test, y_pred_test_RF)\n",
    "print('RF Test set accuracy:', np.round(RF_score,3))\n",
    "print('-----------------------------------')"
   ]
  },
  {
   "cell_type": "markdown",
   "id": "8f887079",
   "metadata": {},
   "source": [
    "# Doing a Test Prediction on Abstract Classifier Using TF-IDF"
   ]
  },
  {
   "cell_type": "code",
   "execution_count": 138,
   "id": "88280417",
   "metadata": {},
   "outputs": [
    {
     "name": "stdout",
     "output_type": "stream",
     "text": [
      "['The chemical properties and diversity of volatile isoprenoids lends them to a broad variety of biological roles. It also lends them to a host of biotechnological applications, both by taking advantage of their natural functions and by using them as industrial chemicals/chemical feedstocks. Natural functions include roles as insect attractants and repellents, abiotic stress protectants in pathogen defense, etc. Industrial applications include use as pharmaceuticals, flavours, fragrances, fuels, fuel additives, etc. Here we will examine the ways in which researchers have so far found to exploit volatile isoprenoids using biotechnology. Production and/or modification of volatiles using metabolic engineering in both plants and microorganisms are reviewed, including engineering through both mevalonate and methylerythritol diphosphate pathways. Recent advances are illustrated using several case studies (herbivores and bodyguards, isoprene, and monoterpene production in microbes). Systems and synthetic biology tools with particular utility for metabolic engineering are also reviewed. Finally, we discuss the practical realities of various applications in modern biotechnology, explore possible future applications, and examine the challenges of moving these technologies forward so that they can deliver tangible benefits. While this review focuses on volatile isoprenoids, many of the engineering approaches described here are also applicable to non-isoprenoid volatiles and to non-volatile isoprenoids.']\n"
     ]
    }
   ],
   "source": [
    "#doing a test prediction\n",
    "test = ['The chemical properties and diversity of volatile isoprenoids lends them to a broad variety of biological roles. It also lends them to a host of biotechnological applications, both by taking advantage of their natural functions and by using them as industrial chemicals/chemical feedstocks. Natural functions include roles as insect attractants and repellents, abiotic stress protectants in pathogen defense, etc. Industrial applications include use as pharmaceuticals, flavours, fragrances, fuels, fuel additives, etc. Here we will examine the ways in which researchers have so far found to exploit volatile isoprenoids using biotechnology. Production and/or modification of volatiles using metabolic engineering in both plants and microorganisms are reviewed, including engineering through both mevalonate and methylerythritol diphosphate pathways. Recent advances are illustrated using several case studies (herbivores and bodyguards, isoprene, and monoterpene production in microbes). Systems and synthetic biology tools with particular utility for metabolic engineering are also reviewed. Finally, we discuss the practical realities of various applications in modern biotechnology, explore possible future applications, and examine the challenges of moving these technologies forward so that they can deliver tangible benefits. While this review focuses on volatile isoprenoids, many of the engineering approaches described here are also applicable to non-isoprenoid volatiles and to non-volatile isoprenoids.']\n",
    "print(test)"
   ]
  },
  {
   "cell_type": "markdown",
   "id": "87f18f5b",
   "metadata": {},
   "source": [
    "### Next up is text pre-processing (lemmatization)"
   ]
  },
  {
   "cell_type": "code",
   "execution_count": 139,
   "id": "b1363b14",
   "metadata": {},
   "outputs": [],
   "source": [
    "review = re.sub('[^a-zA-Z]', ' ', test[0])\n",
    "review = review.lower()\n",
    "review = review.split()\n",
    "review = [lemmatizer.lemmatize(i) for i in review if not i in set(words)]\n",
    "test_processed =[ ' '.join(review)]"
   ]
  },
  {
   "cell_type": "code",
   "execution_count": 140,
   "id": "24d1709d",
   "metadata": {},
   "outputs": [
    {
     "data": {
      "text/plain": [
       "['chemical property diversity volatile isoprenoids lends broad variety biological role also lends host biotechnological application taking advantage natural function using industrial chemical chemical feedstock natural function include role insect attractants repellent abiotic stress protectants pathogen defense etc industrial application include use pharmaceutical flavour fragrance fuel fuel additive etc examine way researcher far found exploit volatile isoprenoids using biotechnology production modification volatile using metabolic engineering plant microorganism reviewed including engineering mevalonate methylerythritol diphosphate pathway recent advance illustrated using several case study herbivore bodyguard isoprene monoterpene production microbe system synthetic biology tool particular utility metabolic engineering also reviewed finally discus practical reality various application modern biotechnology explore possible future application examine challenge moving technology forward deliver tangible benefit review focus volatile isoprenoids many engineering approach described also applicable non isoprenoid volatile non volatile isoprenoids']"
      ]
     },
     "execution_count": 140,
     "metadata": {},
     "output_type": "execute_result"
    }
   ],
   "source": [
    "test_processed"
   ]
  },
  {
   "cell_type": "code",
   "execution_count": 141,
   "id": "2bfe7770",
   "metadata": {},
   "outputs": [
    {
     "data": {
      "text/plain": [
       "(1, 571)"
      ]
     },
     "execution_count": 141,
     "metadata": {},
     "output_type": "execute_result"
    }
   ],
   "source": [
    "test_input = vectorizer_tfidf.transform(test_processed)\n",
    "test_input.shape"
   ]
  },
  {
   "cell_type": "code",
   "execution_count": 142,
   "id": "df588140",
   "metadata": {},
   "outputs": [
    {
     "name": "stdout",
     "output_type": "stream",
     "text": [
      "NB Abstract prediction: ['low']\n",
      "LR Abstract prediction: ['low']\n",
      "DT Abstract prediction: ['high']\n",
      "SGD Abstract prediction: ['low']\n"
     ]
    }
   ],
   "source": [
    "res=NB.predict(test_input)\n",
    "print('NB Abstract prediction:', res)\n",
    "res=LR.predict(test_input)\n",
    "print('LR Abstract prediction:', res)\n",
    "res=DT.predict(test_input)\n",
    "print('DT Abstract prediction:',res)\n",
    "res=SGD.predict(test_input)\n",
    "print('SGD Abstract prediction:',res)"
   ]
  },
  {
   "cell_type": "markdown",
   "id": "023f8fb1",
   "metadata": {},
   "source": [
    "# Step8 - Predict class of some new abstracts"
   ]
  },
  {
   "cell_type": "code",
   "execution_count": 238,
   "id": "7da8606e",
   "metadata": {},
   "outputs": [],
   "source": [
    "# new_dataset = pd.ExcelFile('/Users/malli.gelli/Desktop/Git_Repo/AutoLitSurvey/Input1_.xlsx')\n",
    "\n",
    "# check what sheets in excel file\n",
    "#sheets= print(new_data.sheet_names)\n",
    "\n",
    "#new_set = pd.read_excel(new_dataset, 'New_Abstracts')\n",
    "\n",
    "new_set=pd.read_csv('/Users/malli.gelli/Desktop/Git_Repo/AutoLitSurvey/notebooks/50_Abstracts_input.csv')"
   ]
  },
  {
   "cell_type": "code",
   "execution_count": 239,
   "id": "037b9adf",
   "metadata": {},
   "outputs": [
    {
     "data": {
      "text/plain": [
       "(49, 2)"
      ]
     },
     "execution_count": 239,
     "metadata": {},
     "output_type": "execute_result"
    }
   ],
   "source": [
    "new_set.shape"
   ]
  },
  {
   "cell_type": "code",
   "execution_count": 240,
   "id": "e69abc67",
   "metadata": {},
   "outputs": [
    {
     "data": {
      "text/html": [
       "<div>\n",
       "<style scoped>\n",
       "    .dataframe tbody tr th:only-of-type {\n",
       "        vertical-align: middle;\n",
       "    }\n",
       "\n",
       "    .dataframe tbody tr th {\n",
       "        vertical-align: top;\n",
       "    }\n",
       "\n",
       "    .dataframe thead th {\n",
       "        text-align: right;\n",
       "    }\n",
       "</style>\n",
       "<table border=\"1\" class=\"dataframe\">\n",
       "  <thead>\n",
       "    <tr style=\"text-align: right;\">\n",
       "      <th></th>\n",
       "      <th>Title</th>\n",
       "      <th>Abstract</th>\n",
       "    </tr>\n",
       "  </thead>\n",
       "  <tbody>\n",
       "    <tr>\n",
       "      <th>0</th>\n",
       "      <td>Metabolic engineering of volatile isoprenoids ...</td>\n",
       "      <td>The chemical properties and diversity of volat...</td>\n",
       "    </tr>\n",
       "    <tr>\n",
       "      <th>1</th>\n",
       "      <td>The nonmevalonate pathway supports both monote...</td>\n",
       "      <td>Terpenoids, the largest class of plant seconda...</td>\n",
       "    </tr>\n",
       "    <tr>\n",
       "      <th>2</th>\n",
       "      <td>A unified mechanism of action for volatile iso...</td>\n",
       "      <td>The sessile nature of plants has resulted in t...</td>\n",
       "    </tr>\n",
       "    <tr>\n",
       "      <th>3</th>\n",
       "      <td>Redirection of cytosolic or plastidic isopreno...</td>\n",
       "      <td>Terpenes constitute a distinct class of natura...</td>\n",
       "    </tr>\n",
       "    <tr>\n",
       "      <th>4</th>\n",
       "      <td>Volatile isoprenoids and their importance for ...</td>\n",
       "      <td>Among plant secondary metabolites, volatile is...</td>\n",
       "    </tr>\n",
       "  </tbody>\n",
       "</table>\n",
       "</div>"
      ],
      "text/plain": [
       "                                               Title  \\\n",
       "0  Metabolic engineering of volatile isoprenoids ...   \n",
       "1  The nonmevalonate pathway supports both monote...   \n",
       "2  A unified mechanism of action for volatile iso...   \n",
       "3  Redirection of cytosolic or plastidic isopreno...   \n",
       "4  Volatile isoprenoids and their importance for ...   \n",
       "\n",
       "                                            Abstract  \n",
       "0  The chemical properties and diversity of volat...  \n",
       "1  Terpenoids, the largest class of plant seconda...  \n",
       "2  The sessile nature of plants has resulted in t...  \n",
       "3  Terpenes constitute a distinct class of natura...  \n",
       "4  Among plant secondary metabolites, volatile is...  "
      ]
     },
     "execution_count": 240,
     "metadata": {},
     "output_type": "execute_result"
    }
   ],
   "source": [
    "new_data= new_set[['Title','Abstract']]\n",
    "new_data.head()"
   ]
  },
  {
   "cell_type": "code",
   "execution_count": 241,
   "id": "b93dd4de",
   "metadata": {},
   "outputs": [],
   "source": [
    "new_data['lemma_text'] = new_data['Abstract'].apply(\n",
    "    lambda x: \" \".join([lemmatizer.lemmatize(i) \n",
    "                        for i in re.sub(\"[^a-zA-Z]\", \" \", x).split() if i not in words]).lower())"
   ]
  },
  {
   "cell_type": "code",
   "execution_count": 242,
   "id": "90a47897",
   "metadata": {},
   "outputs": [
    {
     "name": "stdout",
     "output_type": "stream",
     "text": [
      "['the chemical property diversity volatile isoprenoids lends broad variety biological role it also lends host biotechnological application taking advantage natural function using industrial chemical chemical feedstock natural function include role insect attractants repellent abiotic stress protectants pathogen defense etc industrial application include use pharmaceutical flavour fragrance fuel fuel additive etc here examine way researcher far found exploit volatile isoprenoids using biotechnology production modification volatile using metabolic engineering plant microorganism reviewed including engineering mevalonate methylerythritol diphosphate pathway recent advance illustrated using several case study herbivore bodyguard isoprene monoterpene production microbe systems synthetic biology tool particular utility metabolic engineering also reviewed finally discus practical reality various application modern biotechnology explore possible future application examine challenge moving technology forward deliver tangible benefit while review focus volatile isoprenoids many engineering approach described also applicable non isoprenoid volatile non volatile isoprenoids', 'terpenoids largest class plant secondary metabolite play essential role plant human life in higher plant five carbon building block terpenoids isopentenyl diphosphate ipp dimethylallyl diphosphate derived two independent pathway localized different cellular compartment the methylerythritol phosphate mep nonmevalonate pathway localized plastid thought provide ipp dimethylallyl diphosphate hemiterpene monoterpene diterpene biosynthesis whereas cytosol localized mevalonate pathway provides c unit sesquiterpene biosynthesis stable isotope labeled pathway specific precursor deoxy h d xylulose h mevalolactone supplied cut snapdragon flower emit monoterpenes sesquiterpene nerolidol we show one two pathway plastid localized mep pathway active formation volatile terpene the mep pathway provides ipp precursor plastidial monoterpene cytosolic sesquiterpene biosynthesis epidermis snapdragon petal the trafficking ipp occurs unidirectionally plastid cytosol the mep pathway operates rhythmic manner controlled circadian clock determines rhythmicity terpenoid emission']\n"
     ]
    }
   ],
   "source": [
    "data_set=list(new_data['lemma_text'])\n",
    "print(data_set[:2])"
   ]
  },
  {
   "cell_type": "code",
   "execution_count": 243,
   "id": "eb70eb29",
   "metadata": {},
   "outputs": [
    {
     "data": {
      "text/plain": [
       "(49, 571)"
      ]
     },
     "execution_count": 243,
     "metadata": {},
     "output_type": "execute_result"
    }
   ],
   "source": [
    "test_input = vectorizer_tfidf.transform(data_set)\n",
    "test_input.shape"
   ]
  },
  {
   "cell_type": "code",
   "execution_count": 244,
   "id": "dc762131",
   "metadata": {},
   "outputs": [],
   "source": [
    "SGD_rank =[]\n",
    "for i in test_input:\n",
    "   #print(i)\n",
    "   res=SGD.predict(i)\n",
    "   #print(res)          \n",
    "   if res=='high':\n",
    "       SGD_rank.append(\"high\")\n",
    "   elif res=='medium':\n",
    "       SGD_rank.append(\"medium\")\n",
    "   else:\n",
    "       SGD_rank.append(\"low\")  "
   ]
  },
  {
   "cell_type": "code",
   "execution_count": 245,
   "id": "a5407a5e",
   "metadata": {},
   "outputs": [
    {
     "data": {
      "text/plain": [
       "Labels\n",
       "low       23\n",
       "high      17\n",
       "medium     9\n",
       "dtype: int64"
      ]
     },
     "execution_count": 245,
     "metadata": {},
     "output_type": "execute_result"
    }
   ],
   "source": [
    "SGD_labels=pd.DataFrame({'Labels': SGD_rank})\n",
    "SGD_labels.value_counts()"
   ]
  },
  {
   "cell_type": "code",
   "execution_count": 246,
   "id": "4836ae48",
   "metadata": {},
   "outputs": [
    {
     "data": {
      "text/html": [
       "<div>\n",
       "<style scoped>\n",
       "    .dataframe tbody tr th:only-of-type {\n",
       "        vertical-align: middle;\n",
       "    }\n",
       "\n",
       "    .dataframe tbody tr th {\n",
       "        vertical-align: top;\n",
       "    }\n",
       "\n",
       "    .dataframe thead th {\n",
       "        text-align: right;\n",
       "    }\n",
       "</style>\n",
       "<table border=\"1\" class=\"dataframe\">\n",
       "  <thead>\n",
       "    <tr style=\"text-align: right;\">\n",
       "      <th></th>\n",
       "      <th>Title</th>\n",
       "      <th>Abstract</th>\n",
       "      <th>Labels</th>\n",
       "    </tr>\n",
       "  </thead>\n",
       "  <tbody>\n",
       "    <tr>\n",
       "      <th>0</th>\n",
       "      <td>Metabolic engineering of volatile isoprenoids ...</td>\n",
       "      <td>The chemical properties and diversity of volat...</td>\n",
       "      <td>low</td>\n",
       "    </tr>\n",
       "    <tr>\n",
       "      <th>1</th>\n",
       "      <td>The nonmevalonate pathway supports both monote...</td>\n",
       "      <td>Terpenoids, the largest class of plant seconda...</td>\n",
       "      <td>medium</td>\n",
       "    </tr>\n",
       "    <tr>\n",
       "      <th>2</th>\n",
       "      <td>A unified mechanism of action for volatile iso...</td>\n",
       "      <td>The sessile nature of plants has resulted in t...</td>\n",
       "      <td>low</td>\n",
       "    </tr>\n",
       "    <tr>\n",
       "      <th>3</th>\n",
       "      <td>Redirection of cytosolic or plastidic isopreno...</td>\n",
       "      <td>Terpenes constitute a distinct class of natura...</td>\n",
       "      <td>low</td>\n",
       "    </tr>\n",
       "    <tr>\n",
       "      <th>4</th>\n",
       "      <td>Volatile isoprenoids and their importance for ...</td>\n",
       "      <td>Among plant secondary metabolites, volatile is...</td>\n",
       "      <td>low</td>\n",
       "    </tr>\n",
       "  </tbody>\n",
       "</table>\n",
       "</div>"
      ],
      "text/plain": [
       "                                               Title  \\\n",
       "0  Metabolic engineering of volatile isoprenoids ...   \n",
       "1  The nonmevalonate pathway supports both monote...   \n",
       "2  A unified mechanism of action for volatile iso...   \n",
       "3  Redirection of cytosolic or plastidic isopreno...   \n",
       "4  Volatile isoprenoids and their importance for ...   \n",
       "\n",
       "                                            Abstract  Labels  \n",
       "0  The chemical properties and diversity of volat...     low  \n",
       "1  Terpenoids, the largest class of plant seconda...  medium  \n",
       "2  The sessile nature of plants has resulted in t...     low  \n",
       "3  Terpenes constitute a distinct class of natura...     low  \n",
       "4  Among plant secondary metabolites, volatile is...     low  "
      ]
     },
     "execution_count": 246,
     "metadata": {},
     "output_type": "execute_result"
    }
   ],
   "source": [
    "Abstracts_class=pd.concat([new_data1[['Title', 'Abstract']], SGD_labels], axis=1)\n",
    "Abstracts_class.head()"
   ]
  },
  {
   "cell_type": "code",
   "execution_count": 247,
   "id": "2df9dc86",
   "metadata": {},
   "outputs": [],
   "source": [
    "Abstracts_class['NLP_predicted_rank (1=high, 2=medium, 3=low)']= Abstracts_class['Labels'].map({'high':1, 'medium':2, 'low':3})\n"
   ]
  },
  {
   "cell_type": "code",
   "execution_count": 248,
   "id": "2c950212",
   "metadata": {},
   "outputs": [
    {
     "data": {
      "text/html": [
       "<div>\n",
       "<style scoped>\n",
       "    .dataframe tbody tr th:only-of-type {\n",
       "        vertical-align: middle;\n",
       "    }\n",
       "\n",
       "    .dataframe tbody tr th {\n",
       "        vertical-align: top;\n",
       "    }\n",
       "\n",
       "    .dataframe thead th {\n",
       "        text-align: right;\n",
       "    }\n",
       "</style>\n",
       "<table border=\"1\" class=\"dataframe\">\n",
       "  <thead>\n",
       "    <tr style=\"text-align: right;\">\n",
       "      <th></th>\n",
       "      <th>Title</th>\n",
       "      <th>Abstract</th>\n",
       "      <th>Labels</th>\n",
       "      <th>NLP_predicted_rank (1=high, 2=medium, 3=low)</th>\n",
       "    </tr>\n",
       "  </thead>\n",
       "  <tbody>\n",
       "    <tr>\n",
       "      <th>0</th>\n",
       "      <td>Metabolic engineering of volatile isoprenoids ...</td>\n",
       "      <td>The chemical properties and diversity of volat...</td>\n",
       "      <td>low</td>\n",
       "      <td>3.0</td>\n",
       "    </tr>\n",
       "    <tr>\n",
       "      <th>1</th>\n",
       "      <td>The nonmevalonate pathway supports both monote...</td>\n",
       "      <td>Terpenoids, the largest class of plant seconda...</td>\n",
       "      <td>medium</td>\n",
       "      <td>2.0</td>\n",
       "    </tr>\n",
       "    <tr>\n",
       "      <th>2</th>\n",
       "      <td>A unified mechanism of action for volatile iso...</td>\n",
       "      <td>The sessile nature of plants has resulted in t...</td>\n",
       "      <td>low</td>\n",
       "      <td>3.0</td>\n",
       "    </tr>\n",
       "    <tr>\n",
       "      <th>3</th>\n",
       "      <td>Redirection of cytosolic or plastidic isopreno...</td>\n",
       "      <td>Terpenes constitute a distinct class of natura...</td>\n",
       "      <td>low</td>\n",
       "      <td>3.0</td>\n",
       "    </tr>\n",
       "    <tr>\n",
       "      <th>4</th>\n",
       "      <td>Volatile isoprenoids and their importance for ...</td>\n",
       "      <td>Among plant secondary metabolites, volatile is...</td>\n",
       "      <td>low</td>\n",
       "      <td>3.0</td>\n",
       "    </tr>\n",
       "  </tbody>\n",
       "</table>\n",
       "</div>"
      ],
      "text/plain": [
       "                                               Title  \\\n",
       "0  Metabolic engineering of volatile isoprenoids ...   \n",
       "1  The nonmevalonate pathway supports both monote...   \n",
       "2  A unified mechanism of action for volatile iso...   \n",
       "3  Redirection of cytosolic or plastidic isopreno...   \n",
       "4  Volatile isoprenoids and their importance for ...   \n",
       "\n",
       "                                            Abstract  Labels  \\\n",
       "0  The chemical properties and diversity of volat...     low   \n",
       "1  Terpenoids, the largest class of plant seconda...  medium   \n",
       "2  The sessile nature of plants has resulted in t...     low   \n",
       "3  Terpenes constitute a distinct class of natura...     low   \n",
       "4  Among plant secondary metabolites, volatile is...     low   \n",
       "\n",
       "   NLP_predicted_rank (1=high, 2=medium, 3=low)  \n",
       "0                                           3.0  \n",
       "1                                           2.0  \n",
       "2                                           3.0  \n",
       "3                                           3.0  \n",
       "4                                           3.0  "
      ]
     },
     "execution_count": 248,
     "metadata": {},
     "output_type": "execute_result"
    }
   ],
   "source": [
    "Abstracts_class.head()"
   ]
  },
  {
   "cell_type": "code",
   "execution_count": 250,
   "id": "c0c74026",
   "metadata": {},
   "outputs": [],
   "source": [
    "Abstracts_class.to_excel('/Users/malli.gelli/Desktop/Git_Repo/AutoLitSurvey/Output_NLP_Predicted_50_Abstracts_class.xlsx')"
   ]
  },
  {
   "cell_type": "code",
   "execution_count": 8,
   "id": "a6f5c319",
   "metadata": {},
   "outputs": [],
   "source": [
    "password_key = '1%Anji0247'"
   ]
  },
  {
   "cell_type": "markdown",
   "id": "0ab0da9f",
   "metadata": {},
   "source": [
    "# Step8: Access input from SQL table to make predictions"
   ]
  },
  {
   "cell_type": "code",
   "execution_count": 10,
   "id": "18fb91c0",
   "metadata": {},
   "outputs": [
    {
     "ename": "Error",
     "evalue": "('01000', \"[01000] [unixODBC][Driver Manager]Can't open lib 'libmsodbcsql.18.dylib' : file not found (0) (SQLDriverConnect)\")",
     "output_type": "error",
     "traceback": [
      "\u001b[0;31m---------------------------------------------------------------------------\u001b[0m",
      "\u001b[0;31mError\u001b[0m                                     Traceback (most recent call last)",
      "\u001b[1;32m/Users/malli.gelli/Desktop/Git_Repo/AutoLitSurvey/notebooks/NLP_Abstracts_classification.ipynb Cell 65\u001b[0m in \u001b[0;36m<cell line: 7>\u001b[0;34m()\u001b[0m\n\u001b[1;32m      <a href='vscode-notebook-cell:/Users/malli.gelli/Desktop/Git_Repo/AutoLitSurvey/notebooks/NLP_Abstracts_classification.ipynb#Y121sZmlsZQ%3D%3D?line=4'>5</a>\u001b[0m username \u001b[39m=\u001b[39m \u001b[39m'\u001b[39m\u001b[39mmalli.gelli@calyxt.com\u001b[39m\u001b[39m'\u001b[39m \n\u001b[1;32m      <a href='vscode-notebook-cell:/Users/malli.gelli/Desktop/Git_Repo/AutoLitSurvey/notebooks/NLP_Abstracts_classification.ipynb#Y121sZmlsZQ%3D%3D?line=5'>6</a>\u001b[0m password \u001b[39m=\u001b[39m password_key \n\u001b[0;32m----> <a href='vscode-notebook-cell:/Users/malli.gelli/Desktop/Git_Repo/AutoLitSurvey/notebooks/NLP_Abstracts_classification.ipynb#Y121sZmlsZQ%3D%3D?line=6'>7</a>\u001b[0m cnxn \u001b[39m=\u001b[39m pyodbc\u001b[39m.\u001b[39;49mconnect(\u001b[39m'\u001b[39;49m\u001b[39mDRIVER=\u001b[39;49m\u001b[39m{libmsodbcsql.18.dylib}\u001b[39;49;00m\u001b[39m;SERVER=\u001b[39;49m\u001b[39m'\u001b[39;49m\u001b[39m+\u001b[39;49mserver\u001b[39m+\u001b[39;49m\u001b[39m'\u001b[39;49m\u001b[39m;DATABASE=\u001b[39;49m\u001b[39m'\u001b[39;49m\u001b[39m+\u001b[39;49mdatabase\u001b[39m+\u001b[39;49m\u001b[39m'\u001b[39;49m\u001b[39m;UID=\u001b[39;49m\u001b[39m'\u001b[39;49m\u001b[39m+\u001b[39;49musername\u001b[39m+\u001b[39;49m\u001b[39m'\u001b[39;49m\u001b[39m;PWD=\u001b[39;49m\u001b[39m'\u001b[39;49m\u001b[39m+\u001b[39;49m password)\n\u001b[1;32m      <a href='vscode-notebook-cell:/Users/malli.gelli/Desktop/Git_Repo/AutoLitSurvey/notebooks/NLP_Abstracts_classification.ipynb#Y121sZmlsZQ%3D%3D?line=7'>8</a>\u001b[0m cursor \u001b[39m=\u001b[39m cnxn\u001b[39m.\u001b[39mcursor()\n\u001b[1;32m      <a href='vscode-notebook-cell:/Users/malli.gelli/Desktop/Git_Repo/AutoLitSurvey/notebooks/NLP_Abstracts_classification.ipynb#Y121sZmlsZQ%3D%3D?line=8'>9</a>\u001b[0m query \u001b[39m=\u001b[39m \u001b[39m\"\u001b[39m\u001b[39mSELECT Title, Abstract FROM [stg].[TitleAbstract]\u001b[39m\u001b[39m\"\u001b[39m\n",
      "\u001b[0;31mError\u001b[0m: ('01000', \"[01000] [unixODBC][Driver Manager]Can't open lib 'libmsodbcsql.18.dylib' : file not found (0) (SQLDriverConnect)\")"
     ]
    }
   ],
   "source": [
    "import pyodbc\n",
    "import pandas as pd\n",
    "server = 'literaturemining.database.windows.net' \n",
    "database = 'adb-lm-01' \n",
    "username = 'malli.gelli@calyxt.com' \n",
    "password = password_key \n",
    "cnxn = pyodbc.connect('DRIVER={libmsodbcsql.18.dylib};SERVER='+server+';DATABASE='+database+';UID='+username+';PWD='+ password)\n",
    "cursor = cnxn.cursor()\n",
    "query = \"SELECT Title, Abstract FROM [stg].[TitleAbstract]\"\n",
    "df = pd.read_sql(query, cnxn)\n",
    "print(df.head(26))"
   ]
  },
  {
   "cell_type": "code",
   "execution_count": 9,
   "id": "9a92c523",
   "metadata": {},
   "outputs": [
    {
     "ename": "TypeError",
     "evalue": "connect() got an unexpected keyword argument 'username'",
     "output_type": "error",
     "traceback": [
      "\u001b[0;31m---------------------------------------------------------------------------\u001b[0m",
      "\u001b[0;31mTypeError\u001b[0m                                 Traceback (most recent call last)",
      "\u001b[1;32m/Users/malli.gelli/Desktop/Git_Repo/AutoLitSurvey/notebooks/NLP_Abstracts_classification.ipynb Cell 66\u001b[0m in \u001b[0;36m<cell line: 4>\u001b[0;34m()\u001b[0m\n\u001b[1;32m      <a href='vscode-notebook-cell:/Users/malli.gelli/Desktop/Git_Repo/AutoLitSurvey/notebooks/NLP_Abstracts_classification.ipynb#Y143sZmlsZQ%3D%3D?line=0'>1</a>\u001b[0m \u001b[39mimport\u001b[39;00m \u001b[39mpandas\u001b[39;00m \u001b[39mas\u001b[39;00m \u001b[39mpd\u001b[39;00m\n\u001b[1;32m      <a href='vscode-notebook-cell:/Users/malli.gelli/Desktop/Git_Repo/AutoLitSurvey/notebooks/NLP_Abstracts_classification.ipynb#Y143sZmlsZQ%3D%3D?line=1'>2</a>\u001b[0m \u001b[39mimport\u001b[39;00m \u001b[39mpymssql\u001b[39;00m\n\u001b[0;32m----> <a href='vscode-notebook-cell:/Users/malli.gelli/Desktop/Git_Repo/AutoLitSurvey/notebooks/NLP_Abstracts_classification.ipynb#Y143sZmlsZQ%3D%3D?line=3'>4</a>\u001b[0m con \u001b[39m=\u001b[39m pymssql\u001b[39m.\u001b[39;49mconnect(\n\u001b[1;32m      <a href='vscode-notebook-cell:/Users/malli.gelli/Desktop/Git_Repo/AutoLitSurvey/notebooks/NLP_Abstracts_classification.ipynb#Y143sZmlsZQ%3D%3D?line=4'>5</a>\u001b[0m     server \u001b[39m=\u001b[39;49m \u001b[39m'\u001b[39;49m\u001b[39mliteraturemining.database.windows.net\u001b[39;49m\u001b[39m'\u001b[39;49m, \n\u001b[1;32m      <a href='vscode-notebook-cell:/Users/malli.gelli/Desktop/Git_Repo/AutoLitSurvey/notebooks/NLP_Abstracts_classification.ipynb#Y143sZmlsZQ%3D%3D?line=5'>6</a>\u001b[0m     database \u001b[39m=\u001b[39;49m \u001b[39m'\u001b[39;49m\u001b[39madb-lm-01\u001b[39;49m\u001b[39m'\u001b[39;49m,\n\u001b[1;32m      <a href='vscode-notebook-cell:/Users/malli.gelli/Desktop/Git_Repo/AutoLitSurvey/notebooks/NLP_Abstracts_classification.ipynb#Y143sZmlsZQ%3D%3D?line=6'>7</a>\u001b[0m     username \u001b[39m=\u001b[39;49m \u001b[39m'\u001b[39;49m\u001b[39mmalli.gelli@calyxt.com\u001b[39;49m\u001b[39m'\u001b[39;49m,\n\u001b[1;32m      <a href='vscode-notebook-cell:/Users/malli.gelli/Desktop/Git_Repo/AutoLitSurvey/notebooks/NLP_Abstracts_classification.ipynb#Y143sZmlsZQ%3D%3D?line=7'>8</a>\u001b[0m     password \u001b[39m=\u001b[39;49m password_key)\n\u001b[1;32m      <a href='vscode-notebook-cell:/Users/malli.gelli/Desktop/Git_Repo/AutoLitSurvey/notebooks/NLP_Abstracts_classification.ipynb#Y143sZmlsZQ%3D%3D?line=8'>9</a>\u001b[0m cursor \u001b[39m=\u001b[39m con\u001b[39m.\u001b[39mcursor()\n\u001b[1;32m     <a href='vscode-notebook-cell:/Users/malli.gelli/Desktop/Git_Repo/AutoLitSurvey/notebooks/NLP_Abstracts_classification.ipynb#Y143sZmlsZQ%3D%3D?line=10'>11</a>\u001b[0m query \u001b[39m=\u001b[39m \u001b[39m\"\u001b[39m\u001b[39mSELECT * FROM [stg].[TitleAbstract]\u001b[39m\u001b[39m\"\u001b[39m\n",
      "File \u001b[0;32msrc/pymssql/_pymssql.pyx:592\u001b[0m, in \u001b[0;36mpymssql._pymssql.connect\u001b[0;34m()\u001b[0m\n",
      "\u001b[0;31mTypeError\u001b[0m: connect() got an unexpected keyword argument 'username'"
     ]
    }
   ],
   "source": [
    "import pandas as pd\n",
    "import pymssql\n",
    "\n",
    "con = pymssql.connect(\n",
    "    server = 'literaturemining.database.windows.net', \n",
    "    database = 'adb-lm-01',\n",
    "    username = 'malli.gelli@calyxt.com',\n",
    "    password = password_key)\n",
    "cursor = con.cursor()\n",
    "\n",
    "query = \"SELECT * FROM [stg].[TitleAbstract]\"\n",
    "cursor.execute(query)\n",
    "df = pd.read_sql(query, con)\n",
    "con.close()\n",
    "\n",
    "df"
   ]
  },
  {
   "cell_type": "markdown",
   "id": "da7f0abb",
   "metadata": {},
   "source": [
    "## Step8 - Predict the class of ALL new/unseen Abstracts from SQL database that Jeff created"
   ]
  },
  {
   "cell_type": "code",
   "execution_count": 157,
   "id": "c45ca183",
   "metadata": {},
   "outputs": [
    {
     "data": {
      "text/html": [
       "<div>\n",
       "<style scoped>\n",
       "    .dataframe tbody tr th:only-of-type {\n",
       "        vertical-align: middle;\n",
       "    }\n",
       "\n",
       "    .dataframe tbody tr th {\n",
       "        vertical-align: top;\n",
       "    }\n",
       "\n",
       "    .dataframe thead th {\n",
       "        text-align: right;\n",
       "    }\n",
       "</style>\n",
       "<table border=\"1\" class=\"dataframe\">\n",
       "  <thead>\n",
       "    <tr style=\"text-align: right;\">\n",
       "      <th></th>\n",
       "      <th>Title</th>\n",
       "      <th>Abstract</th>\n",
       "    </tr>\n",
       "  </thead>\n",
       "  <tbody>\n",
       "    <tr>\n",
       "      <th>0</th>\n",
       "      <td>‘Hidden’ Terpenoids in Plants: Their Biosynthe...</td>\n",
       "      <td>Terpenoids are the largest group of plant spec...</td>\n",
       "    </tr>\n",
       "    <tr>\n",
       "      <th>1</th>\n",
       "      <td>A modern purification method for volatile sesq...</td>\n",
       "      <td>Most volatile sesquiterpenes had been purified...</td>\n",
       "    </tr>\n",
       "    <tr>\n",
       "      <th>2</th>\n",
       "      <td>A Novel Pathway for Sesquiterpene Biosynthesis...</td>\n",
       "      <td>In the wild tomato Solanum habrochaites, the S...</td>\n",
       "    </tr>\n",
       "    <tr>\n",
       "      <th>3</th>\n",
       "      <td>A Promiscuous CYP706A3 Reduces Terpene Volatil...</td>\n",
       "      <td>Flowers are essential but vulnerable plant org...</td>\n",
       "    </tr>\n",
       "    <tr>\n",
       "      <th>4</th>\n",
       "      <td>Antisense Suppression of a (+)-d-Cadinene Synt...</td>\n",
       "      <td>In cotton (Gossypium hirsutum) the enzyme (+)-...</td>\n",
       "    </tr>\n",
       "  </tbody>\n",
       "</table>\n",
       "</div>"
      ],
      "text/plain": [
       "                                               Title  \\\n",
       "0  ‘Hidden’ Terpenoids in Plants: Their Biosynthe...   \n",
       "1  A modern purification method for volatile sesq...   \n",
       "2  A Novel Pathway for Sesquiterpene Biosynthesis...   \n",
       "3  A Promiscuous CYP706A3 Reduces Terpene Volatil...   \n",
       "4  Antisense Suppression of a (+)-d-Cadinene Synt...   \n",
       "\n",
       "                                            Abstract  \n",
       "0  Terpenoids are the largest group of plant spec...  \n",
       "1  Most volatile sesquiterpenes had been purified...  \n",
       "2  In the wild tomato Solanum habrochaites, the S...  \n",
       "3  Flowers are essential but vulnerable plant org...  \n",
       "4  In cotton (Gossypium hirsutum) the enzyme (+)-...  "
      ]
     },
     "execution_count": 157,
     "metadata": {},
     "output_type": "execute_result"
    }
   ],
   "source": [
    "import pandas as pd\n",
    "new_data = pd.read_csv('/Users/malli.gelli/Desktop/Git_Repo/AutoLitSurvey/Sesquiterpenes_new-Abstracts.csv')\n",
    "new_data.head()"
   ]
  },
  {
   "cell_type": "markdown",
   "id": "cc3590ff",
   "metadata": {},
   "source": [
    "## Filter Abstract column"
   ]
  },
  {
   "cell_type": "code",
   "execution_count": 158,
   "id": "e67d7c09",
   "metadata": {},
   "outputs": [],
   "source": [
    "# replace following words in Abstract column with space\n",
    "new_data=new_data.apply(lambda x: x.replace({'View Full-Text':'', 'Publisher Summary': '', 'Abstract':'', 'ABSTRACT':'','Summary':''}, regex=True))\n",
    "# remove extra spaces in Abstract column\n",
    "new_data['Abstract'] = new_data['Abstract'].str.strip()\n",
    "#new_data.head()"
   ]
  },
  {
   "cell_type": "markdown",
   "id": "abcb6d67",
   "metadata": {},
   "source": [
    "## text preprocessing"
   ]
  },
  {
   "cell_type": "code",
   "execution_count": 159,
   "id": "7164d147",
   "metadata": {},
   "outputs": [],
   "source": [
    "import re\n",
    "new_data['lemma_text'] = new_data['Abstract'].apply(\n",
    "    lambda x: \" \".join([lemmatizer.lemmatize(i) \n",
    "                        for i in re.sub(\"[^a-zA-Z]\", \" \", x).split() if i not in words]).lower())"
   ]
  },
  {
   "cell_type": "code",
   "execution_count": 160,
   "id": "8c5cdf7d",
   "metadata": {},
   "outputs": [
    {
     "name": "stdout",
     "output_type": "stream",
     "text": [
      "578\n",
      "['terpenoids largest group plant specialized secondary metabolite these naturally occurring chemical compound highly diverse chemical structure although many excellent study terpenoids focused compound built solely isoprene unit plants however also contain many atypical terpenoids glycosylated volatile terpene composite type terpenoids latter synthesized coupling isoprene unit aromatic compound this mini review describes hidden terpenoids providing overview biosynthesis localization biological ecological activity', 'most volatile sesquiterpenes purified plant using distillation preparative gas chromatography applicable many laboratory posse needed facility thus review focus modern purification method volatile sesquiterpenes using escherichia coli cell functionally express terpene synthase tps gene it recently developed recombinant e coli cell carrying tps gene cultured two layer medium n octane tb medium without harming cell volatile hydrophobic compound trapped n octane purified two phase partition alkane alkaline meoh silica gel column chromatography reversed phase preparative high performance liquid chromatography necessary consequently found volatile sesquiterpenes easily purified structure determined nuclear magnetic resonance d gas chromatography mass spectrometry analysis the antioxidant activity several volatile sesquiterpenes also presented review']\n"
     ]
    }
   ],
   "source": [
    "data_set=list(new_data['lemma_text'])\n",
    "print(len(data_set))\n",
    "print(data_set[:2])"
   ]
  },
  {
   "cell_type": "code",
   "execution_count": 161,
   "id": "64a74ed1",
   "metadata": {},
   "outputs": [
    {
     "data": {
      "text/plain": [
       "(578, 571)"
      ]
     },
     "execution_count": 161,
     "metadata": {},
     "output_type": "execute_result"
    }
   ],
   "source": [
    "# tranform text to vectorizer\n",
    "test_input = vectorizer_tfidf.transform(data_set)\n",
    "test_input.shape"
   ]
  },
  {
   "cell_type": "markdown",
   "id": "44f1905d",
   "metadata": {},
   "source": [
    "## predict class of new abstracts with DecisionTree classifier}"
   ]
  },
  {
   "cell_type": "code",
   "execution_count": 162,
   "id": "543e860d",
   "metadata": {},
   "outputs": [],
   "source": [
    " # create list of predicted labels\n",
    " DT_rank =[]\n",
    " for i in test_input:\n",
    "    #print(i)\n",
    "    res=DT.predict(i)\n",
    "    #print(res)          \n",
    "    if res=='high':\n",
    "        DT_rank.append(\"high\")\n",
    "    elif res=='medium':\n",
    "        DT_rank.append(\"medium\")\n",
    "    else:\n",
    "        DT_rank.append(\"low\")  "
   ]
  },
  {
   "cell_type": "code",
   "execution_count": 163,
   "id": "9f105d9b",
   "metadata": {},
   "outputs": [],
   "source": [
    "# convert list of labels to dataframe\n",
    "DT_labels=pd.DataFrame({'DT_Labels': DT_rank})"
   ]
  },
  {
   "cell_type": "code",
   "execution_count": 164,
   "id": "6e6bee6c",
   "metadata": {},
   "outputs": [
    {
     "data": {
      "text/html": [
       "<div>\n",
       "<style scoped>\n",
       "    .dataframe tbody tr th:only-of-type {\n",
       "        vertical-align: middle;\n",
       "    }\n",
       "\n",
       "    .dataframe tbody tr th {\n",
       "        vertical-align: top;\n",
       "    }\n",
       "\n",
       "    .dataframe thead th {\n",
       "        text-align: right;\n",
       "    }\n",
       "</style>\n",
       "<table border=\"1\" class=\"dataframe\">\n",
       "  <thead>\n",
       "    <tr style=\"text-align: right;\">\n",
       "      <th></th>\n",
       "      <th>Title</th>\n",
       "      <th>Abstract</th>\n",
       "      <th>lemma_text</th>\n",
       "      <th>DT_Labels</th>\n",
       "    </tr>\n",
       "  </thead>\n",
       "  <tbody>\n",
       "    <tr>\n",
       "      <th>0</th>\n",
       "      <td>‘Hidden’ Terpenoids in Plants: Their Biosynthe...</td>\n",
       "      <td>Terpenoids are the largest group of plant spec...</td>\n",
       "      <td>terpenoids largest group plant specialized sec...</td>\n",
       "      <td>medium</td>\n",
       "    </tr>\n",
       "    <tr>\n",
       "      <th>1</th>\n",
       "      <td>A modern purification method for volatile sesq...</td>\n",
       "      <td>Most volatile sesquiterpenes had been purified...</td>\n",
       "      <td>most volatile sesquiterpenes purified plant us...</td>\n",
       "      <td>low</td>\n",
       "    </tr>\n",
       "    <tr>\n",
       "      <th>2</th>\n",
       "      <td>A Novel Pathway for Sesquiterpene Biosynthesis...</td>\n",
       "      <td>In the wild tomato Solanum habrochaites, the S...</td>\n",
       "      <td>in wild tomato solanum habrochaites sst locus ...</td>\n",
       "      <td>low</td>\n",
       "    </tr>\n",
       "    <tr>\n",
       "      <th>3</th>\n",
       "      <td>A Promiscuous CYP706A3 Reduces Terpene Volatil...</td>\n",
       "      <td>Flowers are essential but vulnerable plant org...</td>\n",
       "      <td>flowers essential vulnerable plant organ expos...</td>\n",
       "      <td>low</td>\n",
       "    </tr>\n",
       "    <tr>\n",
       "      <th>4</th>\n",
       "      <td>Antisense Suppression of a (+)-d-Cadinene Synt...</td>\n",
       "      <td>In cotton (Gossypium hirsutum) the enzyme (+)-...</td>\n",
       "      <td>in cotton gossypium hirsutum enzyme cadinene s...</td>\n",
       "      <td>low</td>\n",
       "    </tr>\n",
       "  </tbody>\n",
       "</table>\n",
       "</div>"
      ],
      "text/plain": [
       "                                               Title  \\\n",
       "0  ‘Hidden’ Terpenoids in Plants: Their Biosynthe...   \n",
       "1  A modern purification method for volatile sesq...   \n",
       "2  A Novel Pathway for Sesquiterpene Biosynthesis...   \n",
       "3  A Promiscuous CYP706A3 Reduces Terpene Volatil...   \n",
       "4  Antisense Suppression of a (+)-d-Cadinene Synt...   \n",
       "\n",
       "                                            Abstract  \\\n",
       "0  Terpenoids are the largest group of plant spec...   \n",
       "1  Most volatile sesquiterpenes had been purified...   \n",
       "2  In the wild tomato Solanum habrochaites, the S...   \n",
       "3  Flowers are essential but vulnerable plant org...   \n",
       "4  In cotton (Gossypium hirsutum) the enzyme (+)-...   \n",
       "\n",
       "                                          lemma_text DT_Labels  \n",
       "0  terpenoids largest group plant specialized sec...    medium  \n",
       "1  most volatile sesquiterpenes purified plant us...       low  \n",
       "2  in wild tomato solanum habrochaites sst locus ...       low  \n",
       "3  flowers essential vulnerable plant organ expos...       low  \n",
       "4  in cotton gossypium hirsutum enzyme cadinene s...       low  "
      ]
     },
     "execution_count": 164,
     "metadata": {},
     "output_type": "execute_result"
    }
   ],
   "source": [
    "# concatenate dataframes\n",
    "Abstracts_class=pd.concat([new_data, DT_labels], axis=1)\n",
    "Abstracts_class.head()"
   ]
  },
  {
   "cell_type": "code",
   "execution_count": 165,
   "id": "068e6773",
   "metadata": {},
   "outputs": [
    {
     "data": {
      "text/html": [
       "<div>\n",
       "<style scoped>\n",
       "    .dataframe tbody tr th:only-of-type {\n",
       "        vertical-align: middle;\n",
       "    }\n",
       "\n",
       "    .dataframe tbody tr th {\n",
       "        vertical-align: top;\n",
       "    }\n",
       "\n",
       "    .dataframe thead th {\n",
       "        text-align: right;\n",
       "    }\n",
       "</style>\n",
       "<table border=\"1\" class=\"dataframe\">\n",
       "  <thead>\n",
       "    <tr style=\"text-align: right;\">\n",
       "      <th></th>\n",
       "      <th>Title</th>\n",
       "      <th>Abstract</th>\n",
       "      <th>DT_Labels</th>\n",
       "    </tr>\n",
       "  </thead>\n",
       "  <tbody>\n",
       "    <tr>\n",
       "      <th>0</th>\n",
       "      <td>‘Hidden’ Terpenoids in Plants: Their Biosynthe...</td>\n",
       "      <td>Terpenoids are the largest group of plant spec...</td>\n",
       "      <td>medium</td>\n",
       "    </tr>\n",
       "    <tr>\n",
       "      <th>1</th>\n",
       "      <td>A modern purification method for volatile sesq...</td>\n",
       "      <td>Most volatile sesquiterpenes had been purified...</td>\n",
       "      <td>low</td>\n",
       "    </tr>\n",
       "    <tr>\n",
       "      <th>2</th>\n",
       "      <td>A Novel Pathway for Sesquiterpene Biosynthesis...</td>\n",
       "      <td>In the wild tomato Solanum habrochaites, the S...</td>\n",
       "      <td>low</td>\n",
       "    </tr>\n",
       "    <tr>\n",
       "      <th>3</th>\n",
       "      <td>A Promiscuous CYP706A3 Reduces Terpene Volatil...</td>\n",
       "      <td>Flowers are essential but vulnerable plant org...</td>\n",
       "      <td>low</td>\n",
       "    </tr>\n",
       "    <tr>\n",
       "      <th>4</th>\n",
       "      <td>Antisense Suppression of a (+)-d-Cadinene Synt...</td>\n",
       "      <td>In cotton (Gossypium hirsutum) the enzyme (+)-...</td>\n",
       "      <td>low</td>\n",
       "    </tr>\n",
       "    <tr>\n",
       "      <th>...</th>\n",
       "      <td>...</td>\n",
       "      <td>...</td>\n",
       "      <td>...</td>\n",
       "    </tr>\n",
       "    <tr>\n",
       "      <th>573</th>\n",
       "      <td>Isoprenoids: Remarkable diversity of form and ...</td>\n",
       "      <td>The isoprenoid biosynthetic pathway is the sou...</td>\n",
       "      <td>medium</td>\n",
       "    </tr>\n",
       "    <tr>\n",
       "      <th>574</th>\n",
       "      <td>Lepidopteran herbivory and oral factors induce...</td>\n",
       "      <td>Terpenes are an important class of defense com...</td>\n",
       "      <td>low</td>\n",
       "    </tr>\n",
       "    <tr>\n",
       "      <th>575</th>\n",
       "      <td>Metabolic engineering of aroma components in f...</td>\n",
       "      <td>Plants have the ability to produce a diversity...</td>\n",
       "      <td>high</td>\n",
       "    </tr>\n",
       "    <tr>\n",
       "      <th>576</th>\n",
       "      <td>Metabolic engineering of plant monoterpenes, s...</td>\n",
       "      <td>Terpenoids (a.k.a. isoprenoids) represent the ...</td>\n",
       "      <td>high</td>\n",
       "    </tr>\n",
       "    <tr>\n",
       "      <th>577</th>\n",
       "      <td>Metabolic Engineering of Plant-derived (E )-ß-...</td>\n",
       "      <td>Aphids are major agricultural pests that cause...</td>\n",
       "      <td>low</td>\n",
       "    </tr>\n",
       "  </tbody>\n",
       "</table>\n",
       "<p>578 rows × 3 columns</p>\n",
       "</div>"
      ],
      "text/plain": [
       "                                                 Title  \\\n",
       "0    ‘Hidden’ Terpenoids in Plants: Their Biosynthe...   \n",
       "1    A modern purification method for volatile sesq...   \n",
       "2    A Novel Pathway for Sesquiterpene Biosynthesis...   \n",
       "3    A Promiscuous CYP706A3 Reduces Terpene Volatil...   \n",
       "4    Antisense Suppression of a (+)-d-Cadinene Synt...   \n",
       "..                                                 ...   \n",
       "573  Isoprenoids: Remarkable diversity of form and ...   \n",
       "574  Lepidopteran herbivory and oral factors induce...   \n",
       "575  Metabolic engineering of aroma components in f...   \n",
       "576  Metabolic engineering of plant monoterpenes, s...   \n",
       "577  Metabolic Engineering of Plant-derived (E )-ß-...   \n",
       "\n",
       "                                              Abstract DT_Labels  \n",
       "0    Terpenoids are the largest group of plant spec...    medium  \n",
       "1    Most volatile sesquiterpenes had been purified...       low  \n",
       "2    In the wild tomato Solanum habrochaites, the S...       low  \n",
       "3    Flowers are essential but vulnerable plant org...       low  \n",
       "4    In cotton (Gossypium hirsutum) the enzyme (+)-...       low  \n",
       "..                                                 ...       ...  \n",
       "573  The isoprenoid biosynthetic pathway is the sou...    medium  \n",
       "574  Terpenes are an important class of defense com...       low  \n",
       "575  Plants have the ability to produce a diversity...      high  \n",
       "576  Terpenoids (a.k.a. isoprenoids) represent the ...      high  \n",
       "577  Aphids are major agricultural pests that cause...       low  \n",
       "\n",
       "[578 rows x 3 columns]"
      ]
     },
     "execution_count": 165,
     "metadata": {},
     "output_type": "execute_result"
    }
   ],
   "source": [
    "Abstracts_class = Abstracts_class.loc[:, ['Title','Abstract', 'DT_Labels']]\n",
    "Abstracts_class"
   ]
  },
  {
   "cell_type": "code",
   "execution_count": 166,
   "id": "bd4ec3d6",
   "metadata": {},
   "outputs": [],
   "source": [
    "Abstracts_class['NLP_predicted_rank (1=high, 2=medium, 3=low)']= Abstracts_class['DT_Labels'].map({'high':1, 'medium':2, 'low':3})"
   ]
  },
  {
   "cell_type": "code",
   "execution_count": 167,
   "id": "d4ccfe3d",
   "metadata": {},
   "outputs": [],
   "source": [
    "# write resutls to \n",
    "Abstracts_class.to_excel('Outpot_set2_Abstracts_NLP_classification.xlsx')"
   ]
  }
 ],
 "metadata": {
  "kernelspec": {
   "display_name": "Python 3.9.12 ('NLP')",
   "language": "python",
   "name": "python3"
  },
  "language_info": {
   "codemirror_mode": {
    "name": "ipython",
    "version": 3
   },
   "file_extension": ".py",
   "mimetype": "text/x-python",
   "name": "python",
   "nbconvert_exporter": "python",
   "pygments_lexer": "ipython3",
   "version": "3.9.12"
  },
  "vscode": {
   "interpreter": {
    "hash": "48c4b789acf423f07119014e61c9c4f7b59ea82888d8551c102dbda30d7613bd"
   }
  }
 },
 "nbformat": 4,
 "nbformat_minor": 5
}
